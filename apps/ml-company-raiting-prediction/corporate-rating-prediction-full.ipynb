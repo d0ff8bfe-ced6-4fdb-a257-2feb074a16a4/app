{
 "cells": [
  {
   "cell_type": "markdown",
   "metadata": {},
   "source": [
    "#### Import libraries"
   ]
  },
  {
   "cell_type": "code",
   "execution_count": 3,
   "metadata": {},
   "outputs": [],
   "source": [
    "import pandas as pd\n",
    "import numpy as np\n",
    "from numpy import loadtxt\n",
    "from numpy import sort\n",
    "import matplotlib.pyplot as plt\n",
    "%matplotlib inline\n",
    "from matplotlib.ticker import PercentFormatter\n",
    "import matplotlib.ticker as mtick\n",
    "from random import sample\n",
    "import seaborn as sns\n",
    "import xgboost as xgb\n",
    "from xgboost import XGBClassifier\n",
    "from sklearn import svm\n",
    "from sklearn.metrics import classification_report\n",
    "from sklearn import metrics\n",
    "from sklearn import preprocessing\n",
    "from sklearn.metrics import accuracy_score\n",
    "from sklearn.ensemble import GradientBoostingClassifier\n",
    "from sklearn.model_selection import train_test_split\n",
    "from sklearn.neural_network import MLPClassifier\n",
    "from sklearn.ensemble import RandomForestClassifier\n",
    "from sklearn.discriminant_analysis import LinearDiscriminantAnalysis\n",
    "from sklearn.discriminant_analysis import QuadraticDiscriminantAnalysis\n",
    "from sklearn.metrics import confusion_matrix\n",
    "from sklearn.naive_bayes import GaussianNB\n",
    "from sklearn.neighbors import KNeighborsClassifier\n",
    "from sklearn.linear_model import LogisticRegression\n",
    "from sklearn.model_selection import train_test_split\n",
    "from sklearn.metrics import accuracy_score\n",
    "from sklearn.feature_selection import SelectFromModel\n",
    "# import onnxmltools\n",
    "# from onnxmltools.convert import convert_xgboost"
   ]
  },
  {
   "cell_type": "markdown",
   "metadata": {},
   "source": [
    "#### Ignore Warnings"
   ]
  },
  {
   "cell_type": "code",
   "execution_count": 4,
   "metadata": {},
   "outputs": [],
   "source": [
    "# import warnings filter\n",
    "from warnings import simplefilter\n",
    "# ignore all future warnings\n",
    "simplefilter(action='ignore', category=FutureWarning)"
   ]
  },
  {
   "cell_type": "markdown",
   "metadata": {},
   "source": [
    "#### Import Dataset"
   ]
  },
  {
   "cell_type": "code",
   "execution_count": 5,
   "metadata": {},
   "outputs": [],
   "source": [
    "df_rating = pd.read_csv('dataset/corporate_rating.csv')"
   ]
  },
  {
   "cell_type": "code",
   "execution_count": 6,
   "metadata": {},
   "outputs": [
    {
     "name": "stdout",
     "output_type": "stream",
     "text": [
      "<class 'pandas.core.frame.DataFrame'>\n",
      "RangeIndex: 2029 entries, 0 to 2028\n",
      "Data columns (total 31 columns):\n",
      " #   Column                              Non-Null Count  Dtype  \n",
      "---  ------                              --------------  -----  \n",
      " 0   Rating                              2029 non-null   object \n",
      " 1   Name                                2029 non-null   object \n",
      " 2   Symbol                              2029 non-null   object \n",
      " 3   Rating Agency Name                  2029 non-null   object \n",
      " 4   Date                                2029 non-null   object \n",
      " 5   Sector                              2029 non-null   object \n",
      " 6   currentRatio                        2029 non-null   float64\n",
      " 7   quickRatio                          2029 non-null   float64\n",
      " 8   cashRatio                           2029 non-null   float64\n",
      " 9   daysOfSalesOutstanding              2029 non-null   float64\n",
      " 10  netProfitMargin                     2029 non-null   float64\n",
      " 11  pretaxProfitMargin                  2029 non-null   float64\n",
      " 12  grossProfitMargin                   2029 non-null   float64\n",
      " 13  operatingProfitMargin               2029 non-null   float64\n",
      " 14  returnOnAssets                      2029 non-null   float64\n",
      " 15  returnOnCapitalEmployed             2029 non-null   float64\n",
      " 16  returnOnEquity                      2029 non-null   float64\n",
      " 17  assetTurnover                       2029 non-null   float64\n",
      " 18  fixedAssetTurnover                  2029 non-null   float64\n",
      " 19  debtEquityRatio                     2029 non-null   float64\n",
      " 20  debtRatio                           2029 non-null   float64\n",
      " 21  effectiveTaxRate                    2029 non-null   float64\n",
      " 22  freeCashFlowOperatingCashFlowRatio  2029 non-null   float64\n",
      " 23  freeCashFlowPerShare                2029 non-null   float64\n",
      " 24  cashPerShare                        2029 non-null   float64\n",
      " 25  companyEquityMultiplier             2029 non-null   float64\n",
      " 26  ebitPerRevenue                      2029 non-null   float64\n",
      " 27  enterpriseValueMultiple             2029 non-null   float64\n",
      " 28  operatingCashFlowPerShare           2029 non-null   float64\n",
      " 29  operatingCashFlowSalesRatio         2029 non-null   float64\n",
      " 30  payablesTurnover                    2029 non-null   float64\n",
      "dtypes: float64(25), object(6)\n",
      "memory usage: 491.5+ KB\n"
     ]
    }
   ],
   "source": [
    "# Display the structure\n",
    "df_rating.info()"
   ]
  },
  {
   "cell_type": "code",
   "execution_count": 7,
   "metadata": {
    "scrolled": false
   },
   "outputs": [
    {
     "data": {
      "text/html": [
       "<div>\n",
       "<style scoped>\n",
       "    .dataframe tbody tr th:only-of-type {\n",
       "        vertical-align: middle;\n",
       "    }\n",
       "\n",
       "    .dataframe tbody tr th {\n",
       "        vertical-align: top;\n",
       "    }\n",
       "\n",
       "    .dataframe thead th {\n",
       "        text-align: right;\n",
       "    }\n",
       "</style>\n",
       "<table border=\"1\" class=\"dataframe\">\n",
       "  <thead>\n",
       "    <tr style=\"text-align: right;\">\n",
       "      <th></th>\n",
       "      <th>Rating</th>\n",
       "      <th>Name</th>\n",
       "      <th>Symbol</th>\n",
       "      <th>Rating Agency Name</th>\n",
       "      <th>Date</th>\n",
       "      <th>Sector</th>\n",
       "      <th>currentRatio</th>\n",
       "      <th>quickRatio</th>\n",
       "      <th>cashRatio</th>\n",
       "      <th>daysOfSalesOutstanding</th>\n",
       "      <th>...</th>\n",
       "      <th>effectiveTaxRate</th>\n",
       "      <th>freeCashFlowOperatingCashFlowRatio</th>\n",
       "      <th>freeCashFlowPerShare</th>\n",
       "      <th>cashPerShare</th>\n",
       "      <th>companyEquityMultiplier</th>\n",
       "      <th>ebitPerRevenue</th>\n",
       "      <th>enterpriseValueMultiple</th>\n",
       "      <th>operatingCashFlowPerShare</th>\n",
       "      <th>operatingCashFlowSalesRatio</th>\n",
       "      <th>payablesTurnover</th>\n",
       "    </tr>\n",
       "  </thead>\n",
       "  <tbody>\n",
       "    <tr>\n",
       "      <th>0</th>\n",
       "      <td>A</td>\n",
       "      <td>Whirlpool Corporation</td>\n",
       "      <td>WHR</td>\n",
       "      <td>Egan-Jones Ratings Company</td>\n",
       "      <td>11/27/2015</td>\n",
       "      <td>Consumer Durables</td>\n",
       "      <td>0.945894</td>\n",
       "      <td>0.426395</td>\n",
       "      <td>0.099690</td>\n",
       "      <td>44.203245</td>\n",
       "      <td>...</td>\n",
       "      <td>0.202716</td>\n",
       "      <td>0.437551</td>\n",
       "      <td>6.810673</td>\n",
       "      <td>9.809403</td>\n",
       "      <td>4.008012</td>\n",
       "      <td>0.049351</td>\n",
       "      <td>7.057088</td>\n",
       "      <td>15.565438</td>\n",
       "      <td>0.058638</td>\n",
       "      <td>3.906655</td>\n",
       "    </tr>\n",
       "    <tr>\n",
       "      <th>1</th>\n",
       "      <td>BBB</td>\n",
       "      <td>Whirlpool Corporation</td>\n",
       "      <td>WHR</td>\n",
       "      <td>Egan-Jones Ratings Company</td>\n",
       "      <td>2/13/2014</td>\n",
       "      <td>Consumer Durables</td>\n",
       "      <td>1.033559</td>\n",
       "      <td>0.498234</td>\n",
       "      <td>0.203120</td>\n",
       "      <td>38.991156</td>\n",
       "      <td>...</td>\n",
       "      <td>0.074155</td>\n",
       "      <td>0.541997</td>\n",
       "      <td>8.625473</td>\n",
       "      <td>17.402270</td>\n",
       "      <td>3.156783</td>\n",
       "      <td>0.048857</td>\n",
       "      <td>6.460618</td>\n",
       "      <td>15.914250</td>\n",
       "      <td>0.067239</td>\n",
       "      <td>4.002846</td>\n",
       "    </tr>\n",
       "    <tr>\n",
       "      <th>2</th>\n",
       "      <td>BBB</td>\n",
       "      <td>Whirlpool Corporation</td>\n",
       "      <td>WHR</td>\n",
       "      <td>Fitch Ratings</td>\n",
       "      <td>3/6/2015</td>\n",
       "      <td>Consumer Durables</td>\n",
       "      <td>0.963703</td>\n",
       "      <td>0.451505</td>\n",
       "      <td>0.122099</td>\n",
       "      <td>50.841385</td>\n",
       "      <td>...</td>\n",
       "      <td>0.214529</td>\n",
       "      <td>0.513185</td>\n",
       "      <td>9.693487</td>\n",
       "      <td>13.103448</td>\n",
       "      <td>4.094575</td>\n",
       "      <td>0.044334</td>\n",
       "      <td>10.491970</td>\n",
       "      <td>18.888889</td>\n",
       "      <td>0.074426</td>\n",
       "      <td>3.483510</td>\n",
       "    </tr>\n",
       "    <tr>\n",
       "      <th>3</th>\n",
       "      <td>BBB</td>\n",
       "      <td>Whirlpool Corporation</td>\n",
       "      <td>WHR</td>\n",
       "      <td>Fitch Ratings</td>\n",
       "      <td>6/15/2012</td>\n",
       "      <td>Consumer Durables</td>\n",
       "      <td>1.019851</td>\n",
       "      <td>0.510402</td>\n",
       "      <td>0.176116</td>\n",
       "      <td>41.161738</td>\n",
       "      <td>...</td>\n",
       "      <td>1.816667</td>\n",
       "      <td>-0.147170</td>\n",
       "      <td>-1.015625</td>\n",
       "      <td>14.440104</td>\n",
       "      <td>3.630950</td>\n",
       "      <td>-0.012858</td>\n",
       "      <td>4.080741</td>\n",
       "      <td>6.901042</td>\n",
       "      <td>0.028394</td>\n",
       "      <td>4.581150</td>\n",
       "    </tr>\n",
       "    <tr>\n",
       "      <th>4</th>\n",
       "      <td>BBB</td>\n",
       "      <td>Whirlpool Corporation</td>\n",
       "      <td>WHR</td>\n",
       "      <td>Standard &amp; Poor's Ratings Services</td>\n",
       "      <td>10/24/2016</td>\n",
       "      <td>Consumer Durables</td>\n",
       "      <td>0.957844</td>\n",
       "      <td>0.495432</td>\n",
       "      <td>0.141608</td>\n",
       "      <td>47.761126</td>\n",
       "      <td>...</td>\n",
       "      <td>0.166966</td>\n",
       "      <td>0.451372</td>\n",
       "      <td>7.135348</td>\n",
       "      <td>14.257556</td>\n",
       "      <td>4.012780</td>\n",
       "      <td>0.053770</td>\n",
       "      <td>8.293505</td>\n",
       "      <td>15.808147</td>\n",
       "      <td>0.058065</td>\n",
       "      <td>3.857790</td>\n",
       "    </tr>\n",
       "  </tbody>\n",
       "</table>\n",
       "<p>5 rows × 31 columns</p>\n",
       "</div>"
      ],
      "text/plain": [
       "  Rating                   Name Symbol                  Rating Agency Name  \\\n",
       "0      A  Whirlpool Corporation    WHR          Egan-Jones Ratings Company   \n",
       "1    BBB  Whirlpool Corporation    WHR          Egan-Jones Ratings Company   \n",
       "2    BBB  Whirlpool Corporation    WHR                       Fitch Ratings   \n",
       "3    BBB  Whirlpool Corporation    WHR                       Fitch Ratings   \n",
       "4    BBB  Whirlpool Corporation    WHR  Standard & Poor's Ratings Services   \n",
       "\n",
       "         Date             Sector  currentRatio  quickRatio  cashRatio  \\\n",
       "0  11/27/2015  Consumer Durables      0.945894    0.426395   0.099690   \n",
       "1   2/13/2014  Consumer Durables      1.033559    0.498234   0.203120   \n",
       "2    3/6/2015  Consumer Durables      0.963703    0.451505   0.122099   \n",
       "3   6/15/2012  Consumer Durables      1.019851    0.510402   0.176116   \n",
       "4  10/24/2016  Consumer Durables      0.957844    0.495432   0.141608   \n",
       "\n",
       "   daysOfSalesOutstanding  ...  effectiveTaxRate  \\\n",
       "0               44.203245  ...          0.202716   \n",
       "1               38.991156  ...          0.074155   \n",
       "2               50.841385  ...          0.214529   \n",
       "3               41.161738  ...          1.816667   \n",
       "4               47.761126  ...          0.166966   \n",
       "\n",
       "   freeCashFlowOperatingCashFlowRatio  freeCashFlowPerShare  cashPerShare  \\\n",
       "0                            0.437551              6.810673      9.809403   \n",
       "1                            0.541997              8.625473     17.402270   \n",
       "2                            0.513185              9.693487     13.103448   \n",
       "3                           -0.147170             -1.015625     14.440104   \n",
       "4                            0.451372              7.135348     14.257556   \n",
       "\n",
       "   companyEquityMultiplier  ebitPerRevenue  enterpriseValueMultiple  \\\n",
       "0                 4.008012        0.049351                 7.057088   \n",
       "1                 3.156783        0.048857                 6.460618   \n",
       "2                 4.094575        0.044334                10.491970   \n",
       "3                 3.630950       -0.012858                 4.080741   \n",
       "4                 4.012780        0.053770                 8.293505   \n",
       "\n",
       "   operatingCashFlowPerShare  operatingCashFlowSalesRatio  payablesTurnover  \n",
       "0                  15.565438                     0.058638          3.906655  \n",
       "1                  15.914250                     0.067239          4.002846  \n",
       "2                  18.888889                     0.074426          3.483510  \n",
       "3                   6.901042                     0.028394          4.581150  \n",
       "4                  15.808147                     0.058065          3.857790  \n",
       "\n",
       "[5 rows x 31 columns]"
      ]
     },
     "execution_count": 7,
     "metadata": {},
     "output_type": "execute_result"
    }
   ],
   "source": [
    "df_rating.head()"
   ]
  },
  {
   "cell_type": "markdown",
   "metadata": {},
   "source": [
    "### Analyse Labels"
   ]
  },
  {
   "cell_type": "code",
   "execution_count": 8,
   "metadata": {},
   "outputs": [
    {
     "data": {
      "text/plain": [
       "Rating\n",
       "BBB    671\n",
       "BB     490\n",
       "A      398\n",
       "B      302\n",
       "AA      89\n",
       "CCC     64\n",
       "AAA      7\n",
       "CC       5\n",
       "C        2\n",
       "D        1\n",
       "Name: count, dtype: int64"
      ]
     },
     "execution_count": 8,
     "metadata": {},
     "output_type": "execute_result"
    }
   ],
   "source": [
    "df_rating.Rating.value_counts()"
   ]
  },
  {
   "cell_type": "code",
   "execution_count": 9,
   "metadata": {},
   "outputs": [],
   "source": [
    "rating_dict = {'AAA':'Lowest Risk',\n",
    "               'AA':'Low Risk',\n",
    "               'A':'Low Risk',\n",
    "               'BBB':'Medium Risk',\n",
    "               'BB':'High Risk',\n",
    "               'B':'High Risk',\n",
    "               'CCC':'Highest Risk',\n",
    "               'CC':'Highest Risk',\n",
    "               'C':'Highest Risk',\n",
    "               'D':'In Default'}\n",
    "\n",
    "df_rating.Rating = df_rating.Rating.map(rating_dict)"
   ]
  },
  {
   "cell_type": "code",
   "execution_count": 10,
   "metadata": {},
   "outputs": [
    {
     "data": {
      "image/png": "[encoded data removed]",
      "text/plain": [
       "<Figure size 800x400 with 1 Axes>"
      ]
     },
     "metadata": {},
     "output_type": "display_data"
    }
   ],
   "source": [
    "ax = df_rating['Rating'].value_counts().plot(kind='bar',\n",
    "                                             figsize=(8,4),\n",
    "                                             title=\"Count of Rating by Type\",\n",
    "                                             grid=True)"
   ]
  },
  {
   "cell_type": "code",
   "execution_count": 11,
   "metadata": {},
   "outputs": [],
   "source": [
    "df_rating = df_rating[df_rating['Rating']!='Lowest Risk'] # filter Lowest Risk\n",
    "df_rating = df_rating[df_rating['Rating']!='In Default']  # filter In Default\n",
    "df_rating.reset_index(inplace = True, drop=True) # reset index"
   ]
  },
  {
   "cell_type": "code",
   "execution_count": 61,
   "metadata": {
    "scrolled": true
   },
   "outputs": [
    {
     "data": {
      "text/html": [
       "<div>\n",
       "<style scoped>\n",
       "    .dataframe tbody tr th:only-of-type {\n",
       "        vertical-align: middle;\n",
       "    }\n",
       "\n",
       "    .dataframe tbody tr th {\n",
       "        vertical-align: top;\n",
       "    }\n",
       "\n",
       "    .dataframe thead th {\n",
       "        text-align: right;\n",
       "    }\n",
       "</style>\n",
       "<table border=\"1\" class=\"dataframe\">\n",
       "  <thead>\n",
       "    <tr style=\"text-align: right;\">\n",
       "      <th></th>\n",
       "      <th>Rating</th>\n",
       "      <th>Sector</th>\n",
       "      <th>currentRatio</th>\n",
       "      <th>quickRatio</th>\n",
       "      <th>cashRatio</th>\n",
       "      <th>daysOfSalesOutstanding</th>\n",
       "      <th>netProfitMargin</th>\n",
       "      <th>pretaxProfitMargin</th>\n",
       "      <th>grossProfitMargin</th>\n",
       "      <th>operatingProfitMargin</th>\n",
       "      <th>...</th>\n",
       "      <th>effectiveTaxRate</th>\n",
       "      <th>freeCashFlowOperatingCashFlowRatio</th>\n",
       "      <th>freeCashFlowPerShare</th>\n",
       "      <th>cashPerShare</th>\n",
       "      <th>companyEquityMultiplier</th>\n",
       "      <th>ebitPerRevenue</th>\n",
       "      <th>enterpriseValueMultiple</th>\n",
       "      <th>operatingCashFlowPerShare</th>\n",
       "      <th>operatingCashFlowSalesRatio</th>\n",
       "      <th>payablesTurnover</th>\n",
       "    </tr>\n",
       "  </thead>\n",
       "  <tbody>\n",
       "    <tr>\n",
       "      <th>count</th>\n",
       "      <td>2021.000000</td>\n",
       "      <td>2021.000000</td>\n",
       "      <td>2021.000000</td>\n",
       "      <td>2021.000000</td>\n",
       "      <td>2021.000000</td>\n",
       "      <td>2021.000000</td>\n",
       "      <td>2021.000000</td>\n",
       "      <td>2021.000000</td>\n",
       "      <td>2021.000000</td>\n",
       "      <td>2021.000000</td>\n",
       "      <td>...</td>\n",
       "      <td>2021.000000</td>\n",
       "      <td>2021.000000</td>\n",
       "      <td>2.021000e+03</td>\n",
       "      <td>2.021000e+03</td>\n",
       "      <td>2021.000000</td>\n",
       "      <td>2021.000000</td>\n",
       "      <td>2021.000000</td>\n",
       "      <td>2.021000e+03</td>\n",
       "      <td>2021.000000</td>\n",
       "      <td>2021.000000</td>\n",
       "    </tr>\n",
       "    <tr>\n",
       "      <th>mean</th>\n",
       "      <td>1.513112</td>\n",
       "      <td>4.977239</td>\n",
       "      <td>3.535411</td>\n",
       "      <td>2.657150</td>\n",
       "      <td>0.669048</td>\n",
       "      <td>334.855415</td>\n",
       "      <td>0.278725</td>\n",
       "      <td>0.432721</td>\n",
       "      <td>0.496900</td>\n",
       "      <td>0.588793</td>\n",
       "      <td>...</td>\n",
       "      <td>0.400755</td>\n",
       "      <td>0.408272</td>\n",
       "      <td>5.114871e+03</td>\n",
       "      <td>4.244248e+03</td>\n",
       "      <td>3.335166</td>\n",
       "      <td>0.438715</td>\n",
       "      <td>48.426558</td>\n",
       "      <td>6.540891e+03</td>\n",
       "      <td>1.452142</td>\n",
       "      <td>38.138233</td>\n",
       "    </tr>\n",
       "    <tr>\n",
       "      <th>std</th>\n",
       "      <td>1.303252</td>\n",
       "      <td>3.464598</td>\n",
       "      <td>44.139386</td>\n",
       "      <td>33.009920</td>\n",
       "      <td>3.590902</td>\n",
       "      <td>4456.606352</td>\n",
       "      <td>6.076128</td>\n",
       "      <td>9.002733</td>\n",
       "      <td>0.525996</td>\n",
       "      <td>11.246798</td>\n",
       "      <td>...</td>\n",
       "      <td>10.613711</td>\n",
       "      <td>3.803929</td>\n",
       "      <td>1.472059e+05</td>\n",
       "      <td>1.226418e+05</td>\n",
       "      <td>87.702375</td>\n",
       "      <td>9.002047</td>\n",
       "      <td>530.161001</td>\n",
       "      <td>1.778797e+05</td>\n",
       "      <td>19.521704</td>\n",
       "      <td>760.421855</td>\n",
       "    </tr>\n",
       "    <tr>\n",
       "      <th>min</th>\n",
       "      <td>0.000000</td>\n",
       "      <td>0.000000</td>\n",
       "      <td>-0.932005</td>\n",
       "      <td>-1.893266</td>\n",
       "      <td>-0.192736</td>\n",
       "      <td>-811.845623</td>\n",
       "      <td>-101.845815</td>\n",
       "      <td>-124.343612</td>\n",
       "      <td>-14.800817</td>\n",
       "      <td>-124.343612</td>\n",
       "      <td>...</td>\n",
       "      <td>-100.611015</td>\n",
       "      <td>-120.916010</td>\n",
       "      <td>-4.912742e+03</td>\n",
       "      <td>-1.915035e+01</td>\n",
       "      <td>-2555.419643</td>\n",
       "      <td>-124.343612</td>\n",
       "      <td>-3749.921337</td>\n",
       "      <td>-1.195049e+04</td>\n",
       "      <td>-4.461837</td>\n",
       "      <td>-76.662850</td>\n",
       "    </tr>\n",
       "    <tr>\n",
       "      <th>25%</th>\n",
       "      <td>0.000000</td>\n",
       "      <td>2.000000</td>\n",
       "      <td>1.071930</td>\n",
       "      <td>0.602298</td>\n",
       "      <td>0.131433</td>\n",
       "      <td>22.806507</td>\n",
       "      <td>0.020894</td>\n",
       "      <td>0.025649</td>\n",
       "      <td>0.232565</td>\n",
       "      <td>0.044546</td>\n",
       "      <td>...</td>\n",
       "      <td>0.147837</td>\n",
       "      <td>0.269616</td>\n",
       "      <td>4.094118e-01</td>\n",
       "      <td>1.562116e+00</td>\n",
       "      <td>2.050249</td>\n",
       "      <td>0.028057</td>\n",
       "      <td>6.235759</td>\n",
       "      <td>2.348851e+00</td>\n",
       "      <td>0.073664</td>\n",
       "      <td>2.202394</td>\n",
       "    </tr>\n",
       "    <tr>\n",
       "      <th>50%</th>\n",
       "      <td>2.000000</td>\n",
       "      <td>5.000000</td>\n",
       "      <td>1.492804</td>\n",
       "      <td>0.979094</td>\n",
       "      <td>0.297859</td>\n",
       "      <td>42.281804</td>\n",
       "      <td>0.064323</td>\n",
       "      <td>0.084965</td>\n",
       "      <td>0.414217</td>\n",
       "      <td>0.107640</td>\n",
       "      <td>...</td>\n",
       "      <td>0.300439</td>\n",
       "      <td>0.644265</td>\n",
       "      <td>2.123062e+00</td>\n",
       "      <td>3.680425e+00</td>\n",
       "      <td>2.657275</td>\n",
       "      <td>0.087424</td>\n",
       "      <td>9.269746</td>\n",
       "      <td>4.361649e+00</td>\n",
       "      <td>0.132758</td>\n",
       "      <td>5.775840</td>\n",
       "    </tr>\n",
       "    <tr>\n",
       "      <th>75%</th>\n",
       "      <td>3.000000</td>\n",
       "      <td>8.000000</td>\n",
       "      <td>2.160710</td>\n",
       "      <td>1.450457</td>\n",
       "      <td>0.625355</td>\n",
       "      <td>59.165369</td>\n",
       "      <td>0.113871</td>\n",
       "      <td>0.144763</td>\n",
       "      <td>0.849693</td>\n",
       "      <td>0.175334</td>\n",
       "      <td>...</td>\n",
       "      <td>0.370239</td>\n",
       "      <td>0.836949</td>\n",
       "      <td>4.230253e+00</td>\n",
       "      <td>8.027524e+00</td>\n",
       "      <td>3.665438</td>\n",
       "      <td>0.149355</td>\n",
       "      <td>12.898855</td>\n",
       "      <td>7.322553e+00</td>\n",
       "      <td>0.239359</td>\n",
       "      <td>9.500424</td>\n",
       "    </tr>\n",
       "    <tr>\n",
       "      <th>max</th>\n",
       "      <td>3.000000</td>\n",
       "      <td>11.000000</td>\n",
       "      <td>1725.505005</td>\n",
       "      <td>1139.541703</td>\n",
       "      <td>125.917417</td>\n",
       "      <td>115961.637400</td>\n",
       "      <td>198.517873</td>\n",
       "      <td>309.694856</td>\n",
       "      <td>2.702533</td>\n",
       "      <td>410.182214</td>\n",
       "      <td>...</td>\n",
       "      <td>429.926282</td>\n",
       "      <td>34.594086</td>\n",
       "      <td>5.753380e+06</td>\n",
       "      <td>4.786803e+06</td>\n",
       "      <td>2562.871795</td>\n",
       "      <td>309.694856</td>\n",
       "      <td>11153.607090</td>\n",
       "      <td>6.439270e+06</td>\n",
       "      <td>688.526591</td>\n",
       "      <td>20314.880400</td>\n",
       "    </tr>\n",
       "  </tbody>\n",
       "</table>\n",
       "<p>8 rows × 27 columns</p>\n",
       "</div>"
      ],
      "text/plain": [
       "            Rating       Sector  currentRatio   quickRatio    cashRatio  \\\n",
       "count  2021.000000  2021.000000   2021.000000  2021.000000  2021.000000   \n",
       "mean      1.513112     4.977239      3.535411     2.657150     0.669048   \n",
       "std       1.303252     3.464598     44.139386    33.009920     3.590902   \n",
       "min       0.000000     0.000000     -0.932005    -1.893266    -0.192736   \n",
       "25%       0.000000     2.000000      1.071930     0.602298     0.131433   \n",
       "50%       2.000000     5.000000      1.492804     0.979094     0.297859   \n",
       "75%       3.000000     8.000000      2.160710     1.450457     0.625355   \n",
       "max       3.000000    11.000000   1725.505005  1139.541703   125.917417   \n",
       "\n",
       "       daysOfSalesOutstanding  netProfitMargin  pretaxProfitMargin  \\\n",
       "count             2021.000000      2021.000000         2021.000000   \n",
       "mean               334.855415         0.278725            0.432721   \n",
       "std               4456.606352         6.076128            9.002733   \n",
       "min               -811.845623      -101.845815         -124.343612   \n",
       "25%                 22.806507         0.020894            0.025649   \n",
       "50%                 42.281804         0.064323            0.084965   \n",
       "75%                 59.165369         0.113871            0.144763   \n",
       "max             115961.637400       198.517873          309.694856   \n",
       "\n",
       "       grossProfitMargin  operatingProfitMargin  ...  effectiveTaxRate  \\\n",
       "count        2021.000000            2021.000000  ...       2021.000000   \n",
       "mean            0.496900               0.588793  ...          0.400755   \n",
       "std             0.525996              11.246798  ...         10.613711   \n",
       "min           -14.800817            -124.343612  ...       -100.611015   \n",
       "25%             0.232565               0.044546  ...          0.147837   \n",
       "50%             0.414217               0.107640  ...          0.300439   \n",
       "75%             0.849693               0.175334  ...          0.370239   \n",
       "max             2.702533             410.182214  ...        429.926282   \n",
       "\n",
       "       freeCashFlowOperatingCashFlowRatio  freeCashFlowPerShare  cashPerShare  \\\n",
       "count                         2021.000000          2.021000e+03  2.021000e+03   \n",
       "mean                             0.408272          5.114871e+03  4.244248e+03   \n",
       "std                              3.803929          1.472059e+05  1.226418e+05   \n",
       "min                           -120.916010         -4.912742e+03 -1.915035e+01   \n",
       "25%                              0.269616          4.094118e-01  1.562116e+00   \n",
       "50%                              0.644265          2.123062e+00  3.680425e+00   \n",
       "75%                              0.836949          4.230253e+00  8.027524e+00   \n",
       "max                             34.594086          5.753380e+06  4.786803e+06   \n",
       "\n",
       "       companyEquityMultiplier  ebitPerRevenue  enterpriseValueMultiple  \\\n",
       "count              2021.000000     2021.000000              2021.000000   \n",
       "mean                  3.335166        0.438715                48.426558   \n",
       "std                  87.702375        9.002047               530.161001   \n",
       "min               -2555.419643     -124.343612             -3749.921337   \n",
       "25%                   2.050249        0.028057                 6.235759   \n",
       "50%                   2.657275        0.087424                 9.269746   \n",
       "75%                   3.665438        0.149355                12.898855   \n",
       "max                2562.871795      309.694856             11153.607090   \n",
       "\n",
       "       operatingCashFlowPerShare  operatingCashFlowSalesRatio  \\\n",
       "count               2.021000e+03                  2021.000000   \n",
       "mean                6.540891e+03                     1.452142   \n",
       "std                 1.778797e+05                    19.521704   \n",
       "min                -1.195049e+04                    -4.461837   \n",
       "25%                 2.348851e+00                     0.073664   \n",
       "50%                 4.361649e+00                     0.132758   \n",
       "75%                 7.322553e+00                     0.239359   \n",
       "max                 6.439270e+06                   688.526591   \n",
       "\n",
       "       payablesTurnover  \n",
       "count       2021.000000  \n",
       "mean          38.138233  \n",
       "std          760.421855  \n",
       "min          -76.662850  \n",
       "25%            2.202394  \n",
       "50%            5.775840  \n",
       "75%            9.500424  \n",
       "max        20314.880400  \n",
       "\n",
       "[8 rows x 27 columns]"
      ]
     },
     "execution_count": 61,
     "metadata": {},
     "output_type": "execute_result"
    }
   ],
   "source": [
    "# Statistical summary\n",
    "describe = df_rating.describe()\n",
    "describe"
   ]
  },
  {
   "cell_type": "code",
   "execution_count": 76,
   "metadata": {},
   "outputs": [],
   "source": [
    "pd.DataFrame([describe.loc['50%']]).to_csv(\"median_data.csv\")"
   ]
  },
  {
   "cell_type": "markdown",
   "metadata": {},
   "source": [
    "# Machine Learning \n",
    "## Prepare the Dataset"
   ]
  },
  {
   "cell_type": "code",
   "execution_count": 13,
   "metadata": {},
   "outputs": [],
   "source": [
    "le = preprocessing.LabelEncoder()\n",
    "le.fit(df_rating.Sector)\n",
    "df_rating.Sector = le.transform(df_rating.Sector) # encode sector\n",
    "le.fit(df_rating.Rating)\n",
    "df_rating.Rating = le.transform(df_rating.Rating) # encode rating"
   ]
  },
  {
   "cell_type": "code",
   "execution_count": 14,
   "metadata": {},
   "outputs": [],
   "source": [
    "df_train, df_test = train_test_split(df_rating, test_size=0.2, random_state = 1234)"
   ]
  },
  {
   "cell_type": "code",
   "execution_count": 15,
   "metadata": {},
   "outputs": [],
   "source": [
    "X_train, y_train = df_train.iloc[:,5:31], df_train.iloc[:,0]\n",
    "X_test, y_test = df_test.iloc[:,5:31], df_test.iloc[:,0]"
   ]
  },
  {
   "cell_type": "markdown",
   "metadata": {},
   "source": [
    "# Fit Models\n",
    "\n",
    "#### XGBoost"
   ]
  },
  {
   "cell_type": "code",
   "execution_count": 16,
   "metadata": {},
   "outputs": [
    {
     "name": "stdout",
     "output_type": "stream",
     "text": [
      "XGB Accuracy: 0.6814814814814815\n"
     ]
    }
   ],
   "source": [
    "XGB_model = xgb.XGBRegressor(objective ='multi:softmax', num_class =4)\n",
    "XGB_model.fit(X_train, y_train)\n",
    "y_pred_XGB = XGB_model.predict(X_test)\n",
    "Accuracy_XGB = metrics.accuracy_score(y_test, y_pred_XGB)\n",
    "print(\"XGB Accuracy:\",Accuracy_XGB)"
   ]
  },
  {
   "cell_type": "markdown",
   "metadata": {},
   "source": [
    "#### Gradient Boosting Classifier"
   ]
  },
  {
   "cell_type": "code",
   "execution_count": 17,
   "metadata": {},
   "outputs": [
    {
     "name": "stdout",
     "output_type": "stream",
     "text": [
      "GBT Accuracy: 0.6246913580246913\n"
     ]
    }
   ],
   "source": [
    "GBT_model = GradientBoostingClassifier(random_state=123)\n",
    "GBT_model.fit(X_train, y_train)\n",
    "y_pred_GBT = GBT_model.predict(X_test)\n",
    "Accuracy_GBT = metrics.accuracy_score(y_test, y_pred_GBT)\n",
    "print(\"GBT Accuracy:\",Accuracy_GBT)"
   ]
  },
  {
   "cell_type": "markdown",
   "metadata": {},
   "source": [
    "#### Random Forest"
   ]
  },
  {
   "cell_type": "code",
   "execution_count": 18,
   "metadata": {},
   "outputs": [
    {
     "name": "stdout",
     "output_type": "stream",
     "text": [
      "RF Accuracy: 0.6419753086419753\n"
     ]
    }
   ],
   "source": [
    "RF_model = RandomForestClassifier(random_state=1234)\n",
    "RF_model.fit(X_train,y_train)\n",
    "y_pred_RF = RF_model.predict(X_test)\n",
    "Accuracy_RF = metrics.accuracy_score(y_test, y_pred_RF)\n",
    "print(\"RF Accuracy:\",Accuracy_RF)"
   ]
  },
  {
   "cell_type": "markdown",
   "metadata": {},
   "source": [
    "#### Support Vector Machine\n"
   ]
  },
  {
   "cell_type": "code",
   "execution_count": 19,
   "metadata": {},
   "outputs": [
    {
     "name": "stdout",
     "output_type": "stream",
     "text": [
      "SVM Accuracy: 0.362962962962963\n"
     ]
    }
   ],
   "source": [
    "SVC_model = svm.SVC(kernel='rbf', gamma= 2, C = 5, random_state=1234)\n",
    "SVC_model.fit(X_train, y_train)\n",
    "y_pred_SVM = SVC_model.predict(X_test)\n",
    "Accuracy_SVM = metrics.accuracy_score(y_test, y_pred_SVM)\n",
    "print(\"SVM Accuracy:\",Accuracy_SVM)"
   ]
  },
  {
   "cell_type": "markdown",
   "metadata": {},
   "source": [
    "#### Neural Network"
   ]
  },
  {
   "cell_type": "code",
   "execution_count": 20,
   "metadata": {},
   "outputs": [
    {
     "name": "stdout",
     "output_type": "stream",
     "text": [
      "MLP Accuracy: 0.3654320987654321\n"
     ]
    }
   ],
   "source": [
    "MLP_model = MLPClassifier(hidden_layer_sizes=(5,5,5), activation='logistic', solver='adam', max_iter=1500)\n",
    "MLP_model.fit(X_train, y_train)\n",
    "y_pred_MLP = MLP_model.predict(X_test)\n",
    "Accuracy_MLP = metrics.accuracy_score(y_test, y_pred_MLP)\n",
    "print(\"MLP Accuracy:\",Accuracy_MLP)"
   ]
  },
  {
   "cell_type": "markdown",
   "metadata": {},
   "source": [
    "#### Naive Bayes"
   ]
  },
  {
   "cell_type": "code",
   "execution_count": 21,
   "metadata": {},
   "outputs": [
    {
     "name": "stdout",
     "output_type": "stream",
     "text": [
      "GNB Accuracy: 0.2839506172839506\n"
     ]
    }
   ],
   "source": [
    "GNB_model = GaussianNB()\n",
    "GNB_model.fit(X_train, y_train)\n",
    "y_pred_GNB = GNB_model.predict(X_test)\n",
    "Accuracy_GNB = metrics.accuracy_score(y_test, y_pred_GNB)\n",
    "print(\"GNB Accuracy:\",Accuracy_GNB)"
   ]
  },
  {
   "cell_type": "markdown",
   "metadata": {},
   "source": [
    "#### Linear Discriminant Analysis"
   ]
  },
  {
   "cell_type": "code",
   "execution_count": 22,
   "metadata": {},
   "outputs": [
    {
     "name": "stdout",
     "output_type": "stream",
     "text": [
      "LDA Accuracy: 0.3950617283950617\n"
     ]
    }
   ],
   "source": [
    "LDA_model = LinearDiscriminantAnalysis()\n",
    "LDA_model.fit(X_train,y_train)\n",
    "y_pred_LDA = LDA_model.predict(X_test)\n",
    "Accuracy_LDA = metrics.accuracy_score(y_test, y_pred_LDA)\n",
    "print(\"LDA Accuracy:\",Accuracy_LDA)"
   ]
  },
  {
   "cell_type": "markdown",
   "metadata": {},
   "source": [
    "#### Quadratic Discriminant Analysis"
   ]
  },
  {
   "cell_type": "code",
   "execution_count": 23,
   "metadata": {},
   "outputs": [
    {
     "name": "stdout",
     "output_type": "stream",
     "text": [
      "QDA Accuracy: 0.2691358024691358\n"
     ]
    },
    {
     "name": "stderr",
     "output_type": "stream",
     "text": [
      "/home/xlager/.local/share/virtualenvs/ml-company-raiting-prediction-EUfqgbUN/lib/python3.11/site-packages/sklearn/discriminant_analysis.py:947: UserWarning: Variables are collinear\n",
      "  warnings.warn(\"Variables are collinear\")\n"
     ]
    }
   ],
   "source": [
    "QDA_model = QuadraticDiscriminantAnalysis()\n",
    "QDA_model.fit(X_train,y_train)\n",
    "y_pred_QDA = QDA_model.predict(X_test)\n",
    "Accuracy_QDA = metrics.accuracy_score(y_test, y_pred_QDA)\n",
    "print(\"QDA Accuracy:\",Accuracy_QDA)"
   ]
  },
  {
   "cell_type": "markdown",
   "metadata": {},
   "source": [
    "#### K Nearest Neighbours\n"
   ]
  },
  {
   "cell_type": "code",
   "execution_count": 24,
   "metadata": {},
   "outputs": [
    {
     "name": "stdout",
     "output_type": "stream",
     "text": [
      "KNN Accuracy: 0.562962962962963\n"
     ]
    }
   ],
   "source": [
    "KNN_model = KNeighborsClassifier(n_neighbors = 3)\n",
    "KNN_model.fit(X_train,y_train)\n",
    "y_pred_KNN = KNN_model.predict(X_test)\n",
    "Accuracy_KNN = metrics.accuracy_score(y_test, y_pred_KNN)\n",
    "print(\"KNN Accuracy:\",Accuracy_KNN)"
   ]
  },
  {
   "cell_type": "markdown",
   "metadata": {},
   "source": [
    "#### Logistic Regression\n"
   ]
  },
  {
   "cell_type": "code",
   "execution_count": 25,
   "metadata": {},
   "outputs": [
    {
     "name": "stdout",
     "output_type": "stream",
     "text": [
      "LR Accuracy: 0.45185185185185184\n"
     ]
    },
    {
     "name": "stderr",
     "output_type": "stream",
     "text": [
      "/home/xlager/.local/share/virtualenvs/ml-company-raiting-prediction-EUfqgbUN/lib/python3.11/site-packages/sklearn/utils/optimize.py:318: ConvergenceWarning: newton-cg failed to converge at loss = 1.0562435328218027. Increase the number of iterations.\n",
      "  warnings.warn(\n"
     ]
    }
   ],
   "source": [
    "LR_model = LogisticRegression(random_state=1234 , multi_class='multinomial', solver='newton-cg')\n",
    "LR_model = LR_model.fit(X_train, y_train)\n",
    "y_pred_LR = LR_model.predict(X_test)\n",
    "Accuracy_LR = metrics.accuracy_score(y_test, y_pred_LR)\n",
    "print(\"LR Accuracy:\",Accuracy_LR)"
   ]
  },
  {
   "cell_type": "markdown",
   "metadata": {},
   "source": [
    "## Compare Results"
   ]
  },
  {
   "cell_type": "code",
   "execution_count": 26,
   "metadata": {},
   "outputs": [],
   "source": [
    "accuracy_list = [Accuracy_XGB, Accuracy_GBT, Accuracy_RF, Accuracy_SVM, Accuracy_MLP, Accuracy_GNB,\n",
    "                 Accuracy_LDA, Accuracy_QDA, Accuracy_KNN, Accuracy_LR]\n",
    "\n",
    "model_list = ['XGBboost', 'Gradient Boosting', 'Random Forest', 'Support Vector Machine',\n",
    "              \"Neural Network\", 'Naive Bayes', 'Linear Discriminat', 'Quadratic Discriminat',\n",
    "              'KNN', 'Logistic Regression']\n",
    "\n",
    "df_accuracy = pd.DataFrame({'Model': model_list, 'Accuracy': accuracy_list})"
   ]
  },
  {
   "cell_type": "code",
   "execution_count": 27,
   "metadata": {},
   "outputs": [
    {
     "name": "stderr",
     "output_type": "stream",
     "text": [
      "/tmp/ipykernel_56014/1581507612.py:20: UserWarning: set_ticklabels() should only be used with a fixed number of ticks, i.e. after set_ticks() or using a FixedLocator.\n",
      "  ax.set_yticklabels(y_value)\n"
     ]
    },
    {
     "data": {
      "image/png": "[encoded data removed]",
      "text/plain": [
       "<Figure size 1200x800 with 1 Axes>"
      ]
     },
     "metadata": {},
     "output_type": "display_data"
    }
   ],
   "source": [
    "order = list(df_accuracy.sort_values('Accuracy', ascending=False).Model)\n",
    "df_accuracy = df_accuracy.sort_values('Accuracy', ascending=False).reset_index().drop(['index'], axis=1)\n",
    "\n",
    "plt.figure(figsize=(12,8))\n",
    "# make barplot and sort bars\n",
    "x = sns.barplot(x='Model', y=\"Accuracy\", data=df_accuracy, order = order, palette=\"rocket\")\n",
    "plt.xlabel(\"Model\", fontsize=20)\n",
    "plt.ylabel(\"Accuracy\", fontsize=20)\n",
    "plt.title(\"Accuracy by Model\", fontsize=20)\n",
    "plt.grid(linestyle='-', linewidth='0.5', color='grey')\n",
    "plt.xticks(rotation=70, fontsize=12)\n",
    "plt.ylim(0,1)\n",
    "plt.gca().yaxis.set_major_formatter(mtick.PercentFormatter(1))\n",
    "\n",
    "for i in range(len(model_list)):\n",
    "    plt.text(x = i, y = df_accuracy.loc[i, 'Accuracy'] + 0.05, s = str(round((df_accuracy.loc[i, 'Accuracy'])*100, 2))+'%',\n",
    "             fontsize = 14, color='black',horizontalalignment='center')\n",
    "\n",
    "y_value=['{:,.2f}'.format(x) + '%' for x in ax.get_yticks()]\n",
    "ax.set_yticklabels(y_value)\n",
    "\n",
    "plt.tight_layout()\n"
   ]
  },
  {
   "cell_type": "markdown",
   "metadata": {},
   "source": [
    "## XGBoost Hyperparameter Tunning"
   ]
  },
  {
   "cell_type": "code",
   "execution_count": 28,
   "metadata": {},
   "outputs": [],
   "source": [
    "dtrain = xgb.DMatrix(X_train, label=y_train)\n",
    "dtest = xgb.DMatrix(X_test, label=y_test)"
   ]
  },
  {
   "cell_type": "code",
   "execution_count": 29,
   "metadata": {},
   "outputs": [],
   "source": [
    "params = XGB_model.get_xgb_params()"
   ]
  },
  {
   "cell_type": "code",
   "execution_count": 30,
   "metadata": {},
   "outputs": [
    {
     "data": {
      "text/plain": [
       "{'objective': 'multi:softmax',\n",
       " 'base_score': None,\n",
       " 'booster': None,\n",
       " 'colsample_bylevel': None,\n",
       " 'colsample_bynode': None,\n",
       " 'colsample_bytree': None,\n",
       " 'device': None,\n",
       " 'eval_metric': None,\n",
       " 'gamma': None,\n",
       " 'grow_policy': None,\n",
       " 'interaction_constraints': None,\n",
       " 'learning_rate': None,\n",
       " 'max_bin': None,\n",
       " 'max_cat_threshold': None,\n",
       " 'max_cat_to_onehot': None,\n",
       " 'max_delta_step': None,\n",
       " 'max_depth': None,\n",
       " 'max_leaves': None,\n",
       " 'min_child_weight': None,\n",
       " 'monotone_constraints': None,\n",
       " 'multi_strategy': None,\n",
       " 'n_jobs': None,\n",
       " 'num_parallel_tree': None,\n",
       " 'random_state': None,\n",
       " 'reg_alpha': None,\n",
       " 'reg_lambda': None,\n",
       " 'sampling_method': None,\n",
       " 'scale_pos_weight': None,\n",
       " 'subsample': None,\n",
       " 'tree_method': None,\n",
       " 'validate_parameters': None,\n",
       " 'verbosity': None,\n",
       " 'num_class': 4}"
      ]
     },
     "execution_count": 30,
     "metadata": {},
     "output_type": "execute_result"
    }
   ],
   "source": [
    "params"
   ]
  },
  {
   "cell_type": "code",
   "execution_count": 31,
   "metadata": {},
   "outputs": [],
   "source": [
    "params['eval_metric'] = \"merror\""
   ]
  },
  {
   "cell_type": "code",
   "execution_count": 32,
   "metadata": {},
   "outputs": [],
   "source": [
    "num_boost_round = 1000"
   ]
  },
  {
   "cell_type": "code",
   "execution_count": 33,
   "metadata": {
    "scrolled": true
   },
   "outputs": [
    {
     "name": "stdout",
     "output_type": "stream",
     "text": [
      "[0]\tTest-merror:0.49630\n"
     ]
    },
    {
     "name": "stdout",
     "output_type": "stream",
     "text": [
      "[30]\tTest-merror:0.33580\n",
      "[60]\tTest-merror:0.32593\n",
      "[90]\tTest-merror:0.32593\n",
      "[120]\tTest-merror:0.32346\n",
      "[150]\tTest-merror:0.30617\n",
      "[180]\tTest-merror:0.31605\n",
      "[200]\tTest-merror:0.32099\n",
      "Best merror: 0.31 with 151 rounds\n"
     ]
    }
   ],
   "source": [
    "model = xgb.train(\n",
    "    params,\n",
    "    dtrain,\n",
    "    num_boost_round=num_boost_round,\n",
    "    evals=[(dtest, \"Test\")],\n",
    "    early_stopping_rounds=50,\n",
    "    verbose_eval=30)\n",
    "\n",
    "print(\"Best merror: {:.2f} with {} rounds\".format(\n",
    "                 model.best_score,\n",
    "                 model.best_iteration+1))"
   ]
  },
  {
   "cell_type": "code",
   "execution_count": 34,
   "metadata": {},
   "outputs": [
    {
     "name": "stdout",
     "output_type": "stream",
     "text": [
      "[0]\ttrain-merror:0.22973+0.01181\ttest-merror:0.47091+0.00890\n",
      "[30]\ttrain-merror:0.00015+0.00031\ttest-merror:0.36880+0.01927\n",
      "[60]\ttrain-merror:0.00000+0.00000\ttest-merror:0.34714+0.02675\n",
      "[90]\ttrain-merror:0.00000+0.00000\ttest-merror:0.34342+0.02645\n",
      "[120]\ttrain-merror:0.00000+0.00000\ttest-merror:0.34528+0.03376\n",
      "[145]\ttrain-merror:0.00000+0.00000\ttest-merror:0.34651+0.03293\n"
     ]
    },
    {
     "data": {
      "text/html": [
       "<div>\n",
       "<style scoped>\n",
       "    .dataframe tbody tr th:only-of-type {\n",
       "        vertical-align: middle;\n",
       "    }\n",
       "\n",
       "    .dataframe tbody tr th {\n",
       "        vertical-align: top;\n",
       "    }\n",
       "\n",
       "    .dataframe thead th {\n",
       "        text-align: right;\n",
       "    }\n",
       "</style>\n",
       "<table border=\"1\" class=\"dataframe\">\n",
       "  <thead>\n",
       "    <tr style=\"text-align: right;\">\n",
       "      <th></th>\n",
       "      <th>train-merror-mean</th>\n",
       "      <th>train-merror-std</th>\n",
       "      <th>test-merror-mean</th>\n",
       "      <th>test-merror-std</th>\n",
       "    </tr>\n",
       "  </thead>\n",
       "  <tbody>\n",
       "    <tr>\n",
       "      <th>91</th>\n",
       "      <td>0.0</td>\n",
       "      <td>0.0</td>\n",
       "      <td>0.344653</td>\n",
       "      <td>0.028200</td>\n",
       "    </tr>\n",
       "    <tr>\n",
       "      <th>92</th>\n",
       "      <td>0.0</td>\n",
       "      <td>0.0</td>\n",
       "      <td>0.342797</td>\n",
       "      <td>0.026154</td>\n",
       "    </tr>\n",
       "    <tr>\n",
       "      <th>93</th>\n",
       "      <td>0.0</td>\n",
       "      <td>0.0</td>\n",
       "      <td>0.341563</td>\n",
       "      <td>0.026725</td>\n",
       "    </tr>\n",
       "    <tr>\n",
       "      <th>94</th>\n",
       "      <td>0.0</td>\n",
       "      <td>0.0</td>\n",
       "      <td>0.343416</td>\n",
       "      <td>0.028515</td>\n",
       "    </tr>\n",
       "    <tr>\n",
       "      <th>95</th>\n",
       "      <td>0.0</td>\n",
       "      <td>0.0</td>\n",
       "      <td>0.341561</td>\n",
       "      <td>0.028836</td>\n",
       "    </tr>\n",
       "  </tbody>\n",
       "</table>\n",
       "</div>"
      ],
      "text/plain": [
       "    train-merror-mean  train-merror-std  test-merror-mean  test-merror-std\n",
       "91                0.0               0.0          0.344653         0.028200\n",
       "92                0.0               0.0          0.342797         0.026154\n",
       "93                0.0               0.0          0.341563         0.026725\n",
       "94                0.0               0.0          0.343416         0.028515\n",
       "95                0.0               0.0          0.341561         0.028836"
      ]
     },
     "execution_count": 34,
     "metadata": {},
     "output_type": "execute_result"
    }
   ],
   "source": [
    "cv_results = xgb.cv(\n",
    "    params,\n",
    "    dtrain,\n",
    "    num_boost_round=num_boost_round,\n",
    "    seed=42,\n",
    "    nfold=5,\n",
    "    metrics={'merror'},\n",
    "    early_stopping_rounds=50,\n",
    "    verbose_eval=30\n",
    ")\n",
    "cv_results.tail()"
   ]
  },
  {
   "cell_type": "code",
   "execution_count": 35,
   "metadata": {},
   "outputs": [
    {
     "data": {
      "text/plain": [
       "np.float64(0.3415606008485266)"
      ]
     },
     "execution_count": 35,
     "metadata": {},
     "output_type": "execute_result"
    }
   ],
   "source": [
    "cv_results['test-merror-mean'].min()"
   ]
  },
  {
   "cell_type": "code",
   "execution_count": 36,
   "metadata": {},
   "outputs": [],
   "source": [
    "gridsearch_params = [\n",
    "    (max_depth, min_child_weight)\n",
    "    for max_depth in range(5,12)\n",
    "    for min_child_weight in range(5,8)\n",
    "]"
   ]
  },
  {
   "cell_type": "code",
   "execution_count": 37,
   "metadata": {
    "scrolled": true
   },
   "outputs": [
    {
     "name": "stdout",
     "output_type": "stream",
     "text": [
      "CV with max_depth=5, min_child_weight=5\n"
     ]
    },
    {
     "name": "stdout",
     "output_type": "stream",
     "text": [
      "\tMAE 0.35333295111416885 for 114 rounds\n",
      "CV with max_depth=5, min_child_weight=6\n",
      "\tMAE 0.3496101364522417 for 126 rounds\n",
      "CV with max_depth=5, min_child_weight=7\n",
      "\tMAE 0.3527080227802622 for 127 rounds\n",
      "CV with max_depth=6, min_child_weight=5\n",
      "\tMAE 0.34960249206895233 for 121 rounds\n",
      "CV with max_depth=6, min_child_weight=6\n",
      "\tMAE 0.35333868440163585 for 50 rounds\n",
      "CV with max_depth=6, min_child_weight=7\n",
      "\tMAE 0.3452891487979207 for 110 rounds\n",
      "CV with max_depth=7, min_child_weight=5\n",
      "\tMAE 0.34776210679203456 for 54 rounds\n",
      "CV with max_depth=7, min_child_weight=6\n",
      "\tMAE 0.3428047242288728 for 91 rounds\n",
      "CV with max_depth=7, min_child_weight=7\n",
      "\tMAE 0.36137484233459466 for 43 rounds\n",
      "CV with max_depth=8, min_child_weight=5\n",
      "\tMAE 0.3316553912013148 for 89 rounds\n",
      "CV with max_depth=8, min_child_weight=6\n",
      "\tMAE 0.350848526545121 for 94 rounds\n",
      "CV with max_depth=8, min_child_weight=7\n",
      "\tMAE 0.35271375606772926 for 130 rounds\n",
      "CV with max_depth=9, min_child_weight=5\n",
      "\tMAE 0.3477544624087451 for 35 rounds\n",
      "CV with max_depth=9, min_child_weight=6\n",
      "\tMAE 0.34095478347284336 for 58 rounds\n",
      "CV with max_depth=9, min_child_weight=7\n",
      "\tMAE 0.349606314260597 for 188 rounds\n",
      "CV with max_depth=10, min_child_weight=5\n",
      "\tMAE 0.3539311241065627 for 32 rounds\n",
      "CV with max_depth=10, min_child_weight=6\n",
      "\tMAE 0.3514734548790276 for 150 rounds\n",
      "CV with max_depth=10, min_child_weight=7\n",
      "\tMAE 0.34157971180675 for 43 rounds\n",
      "CV with max_depth=11, min_child_weight=5\n",
      "\tMAE 0.3490024079807362 for 33 rounds\n",
      "CV with max_depth=11, min_child_weight=6\n",
      "\tMAE 0.3434392080418912 for 122 rounds\n",
      "CV with max_depth=11, min_child_weight=7\n",
      "\tMAE 0.34526812674387497 for 36 rounds\n",
      "Best params: 8, 5, merror: 0.3316553912013148\n"
     ]
    }
   ],
   "source": [
    "# Define initial best params and MAE\n",
    "min_merror = float(\"Inf\")\n",
    "best_params = None\n",
    "for max_depth, min_child_weight in gridsearch_params:\n",
    "    print(\"CV with max_depth={}, min_child_weight={}\".format(\n",
    "                             max_depth,\n",
    "                             min_child_weight))\n",
    "\n",
    "    # Update our parameters\n",
    "    params['max_depth'] = max_depth\n",
    "    params['min_child_weight'] = min_child_weight\n",
    "    # Run CV\n",
    "    cv_results = xgb.cv(\n",
    "        params,\n",
    "        dtrain,\n",
    "        num_boost_round=num_boost_round,\n",
    "        seed=42,\n",
    "        nfold=5,\n",
    "        metrics={'merror'},\n",
    "        early_stopping_rounds=50,\n",
    "        verbose_eval=False\n",
    "\n",
    "    )\n",
    "    # Update best merror\n",
    "    mean_merror = cv_results['test-merror-mean'].min()\n",
    "    boost_rounds = cv_results['test-merror-mean'].argmin()\n",
    "    print(\"\\tMAE {} for {} rounds\".format(mean_merror, boost_rounds))\n",
    "    if mean_merror < min_merror:\n",
    "        min_merror = mean_merror\n",
    "        best_params = (max_depth,min_child_weight)\n",
    "print(\"Best params: {}, {}, merror: {}\".format(best_params[0], best_params[1], min_merror))"
   ]
  },
  {
   "cell_type": "code",
   "execution_count": 38,
   "metadata": {},
   "outputs": [],
   "source": [
    "params['max_depth'] = 7\n",
    "params['min_child_weight'] = 5"
   ]
  },
  {
   "cell_type": "markdown",
   "metadata": {},
   "source": [
    "#### Parameters `subsample` and `colsample_bytree`"
   ]
  },
  {
   "cell_type": "code",
   "execution_count": 39,
   "metadata": {},
   "outputs": [],
   "source": [
    "gridsearch_params = [\n",
    "    (subsample, colsample)\n",
    "    for subsample in [i/10. for i in range(7,11)]\n",
    "    for colsample in [i/10. for i in range(7,11)]\n",
    "]"
   ]
  },
  {
   "cell_type": "code",
   "execution_count": 40,
   "metadata": {},
   "outputs": [
    {
     "name": "stdout",
     "output_type": "stream",
     "text": [
      "CV with subsample=1.0, colsample=1.0\n",
      "\tMAE 0.3496139586438864 for 37 rounds\n",
      "CV with subsample=1.0, colsample=0.9\n",
      "\tMAE 0.355807820204105 for 38 rounds\n",
      "CV with subsample=1.0, colsample=0.8\n",
      "\tMAE 0.3551867140618431 for 29 rounds\n",
      "CV with subsample=1.0, colsample=0.7\n",
      "\tMAE 0.3613671979513053 for 27 rounds\n",
      "CV with subsample=0.9, colsample=1.0\n",
      "\tMAE 0.3613748423345947 for 15 rounds\n",
      "CV with subsample=0.9, colsample=0.9\n",
      "\tMAE 0.35147345487902765 for 56 rounds\n",
      "CV with subsample=0.9, colsample=0.8\n",
      "\tMAE 0.3533195734434124 for 32 rounds\n",
      "CV with subsample=0.9, colsample=0.7\n",
      "\tMAE 0.3527099338760845 for 39 rounds\n",
      "CV with subsample=0.8, colsample=1.0\n",
      "\tMAE 0.3805565111034667 for 17 rounds\n",
      "CV with subsample=0.8, colsample=0.9\n",
      "\tMAE 0.34528532660627603 for 68 rounds\n",
      "CV with subsample=0.8, colsample=0.8\n",
      "\tMAE 0.37377403202996595 for 11 rounds\n",
      "CV with subsample=0.8, colsample=0.7\n",
      "\tMAE 0.34032412185146965 for 53 rounds\n",
      "CV with subsample=0.7, colsample=1.0\n",
      "\tMAE 0.3607422696173986 for 43 rounds\n",
      "CV with subsample=0.7, colsample=0.9\n",
      "\tMAE 0.3520773611588885 for 32 rounds\n",
      "CV with subsample=0.7, colsample=0.8\n",
      "\tMAE 0.35023888697779304 for 42 rounds\n",
      "CV with subsample=0.7, colsample=0.7\n",
      "\tMAE 0.36013263005007073 for 17 rounds\n",
      "Best params: 0.8, 0.7, merror: 0.34032412185146965\n"
     ]
    }
   ],
   "source": [
    "# Define initial best params and MAE\n",
    "min_merror = float(\"Inf\")\n",
    "best_params = None\n",
    "\n",
    "for subsample, colsample in reversed(gridsearch_params):\n",
    "    print(\"CV with subsample={}, colsample={}\".format(\n",
    "                             subsample,\n",
    "                             colsample))\n",
    "    # We update our parameters\n",
    "    params['subsample'] = subsample\n",
    "    params['colsample_bytree'] = colsample\n",
    "\n",
    "    # Run CV\n",
    "    cv_results = xgb.cv(\n",
    "        params,\n",
    "        dtrain,\n",
    "        num_boost_round=num_boost_round,\n",
    "        seed=42,\n",
    "        nfold=5,\n",
    "        metrics={'merror'},\n",
    "        early_stopping_rounds=10,\n",
    "        verbose_eval=False\n",
    "    )\n",
    "\n",
    "    # Update best MAE\n",
    "    mean_merror = cv_results['test-merror-mean'].min()\n",
    "    boost_rounds = cv_results['test-merror-mean'].argmin()\n",
    "    print(\"\\tMAE {} for {} rounds\".format(mean_merror, boost_rounds))\n",
    "    if mean_merror < min_merror:\n",
    "        min_merror = mean_merror\n",
    "        best_params = (subsample,colsample)\n",
    "\n",
    "print(\"Best params: {}, {}, merror: {}\".format(best_params[0], best_params[1], min_merror))"
   ]
  },
  {
   "cell_type": "code",
   "execution_count": 41,
   "metadata": {},
   "outputs": [],
   "source": [
    "params['subsample'] =0.9\n",
    "params['colsample_bytree'] = 0.7"
   ]
  },
  {
   "cell_type": "markdown",
   "metadata": {},
   "source": [
    "#### Parameter `ETA`\n"
   ]
  },
  {
   "cell_type": "code",
   "execution_count": 42,
   "metadata": {},
   "outputs": [
    {
     "name": "stdout",
     "output_type": "stream",
     "text": [
      "CPU times: user 4 μs, sys: 0 ns, total: 4 μs\n",
      "Wall time: 6.68 μs\n",
      "CV with eta=0.3\n",
      "\tMAE 0.3527099338760845 for 39 rounds\n",
      "\n",
      "CV with eta=0.2\n",
      "\tMAE 0.35890952872377024 for 38 rounds\n",
      "\n",
      "CV with eta=0.1\n",
      "\tMAE 0.3657111187554944 for 40 rounds\n",
      "\n",
      "CV with eta=0.05\n",
      "\tMAE 0.37870848144325964 for 45 rounds\n",
      "\n",
      "CV with eta=0.01\n",
      "\tMAE 0.39417689102931625 for 30 rounds\n",
      "\n",
      "CV with eta=0.005\n",
      "\tMAE 0.3855119825708061 for 47 rounds\n",
      "\n",
      "Best params: 0.3, merror: 0.36013263005007073\n"
     ]
    }
   ],
   "source": [
    "%time\n",
    "# This can take some time…\n",
    "min_merror = float(\"Inf\")\n",
    "best_params = None\n",
    "\n",
    "for eta in [.3, .2, .1, .05, .01, .005]:\n",
    "    print(\"CV with eta={}\".format(eta))\n",
    "    # We update our parameters\n",
    "    params['eta'] = eta\n",
    "    # Run and time CV\n",
    "    cv_results = xgb.cv(\n",
    "            params,\n",
    "            dtrain,\n",
    "            num_boost_round=num_boost_round,\n",
    "            seed=42,\n",
    "            nfold=5,\n",
    "            metrics=['merror'],\n",
    "            early_stopping_rounds=10\n",
    ")\n",
    "    # Update best score\n",
    "    mean_mae = cv_results['test-merror-mean'].min()\n",
    "    boost_rounds = cv_results['test-merror-mean'].argmin()\n",
    "    print(\"\\tMAE {} for {} rounds\\n\".format(mean_mae, boost_rounds))\n",
    "    if mean_merror < min_merror:\n",
    "        min_merror = mean_merror\n",
    "        best_params = eta\n",
    "print(\"Best params: {}, merror: {}\".format(best_params, min_merror))"
   ]
  },
  {
   "cell_type": "code",
   "execution_count": 43,
   "metadata": {},
   "outputs": [],
   "source": [
    "params['eta'] = .3"
   ]
  },
  {
   "cell_type": "code",
   "execution_count": 44,
   "metadata": {},
   "outputs": [
    {
     "data": {
      "text/plain": [
       "{'objective': 'multi:softmax',\n",
       " 'base_score': None,\n",
       " 'booster': None,\n",
       " 'colsample_bylevel': None,\n",
       " 'colsample_bynode': None,\n",
       " 'colsample_bytree': 0.7,\n",
       " 'device': None,\n",
       " 'eval_metric': 'merror',\n",
       " 'gamma': None,\n",
       " 'grow_policy': None,\n",
       " 'interaction_constraints': None,\n",
       " 'learning_rate': None,\n",
       " 'max_bin': None,\n",
       " 'max_cat_threshold': None,\n",
       " 'max_cat_to_onehot': None,\n",
       " 'max_delta_step': None,\n",
       " 'max_depth': 7,\n",
       " 'max_leaves': None,\n",
       " 'min_child_weight': 5,\n",
       " 'monotone_constraints': None,\n",
       " 'multi_strategy': None,\n",
       " 'n_jobs': None,\n",
       " 'num_parallel_tree': None,\n",
       " 'random_state': None,\n",
       " 'reg_alpha': None,\n",
       " 'reg_lambda': None,\n",
       " 'sampling_method': None,\n",
       " 'scale_pos_weight': None,\n",
       " 'subsample': 0.9,\n",
       " 'tree_method': None,\n",
       " 'validate_parameters': None,\n",
       " 'verbosity': None,\n",
       " 'num_class': 4,\n",
       " 'eta': 0.3}"
      ]
     },
     "execution_count": 44,
     "metadata": {},
     "output_type": "execute_result"
    }
   ],
   "source": [
    "params"
   ]
  },
  {
   "cell_type": "code",
   "execution_count": 45,
   "metadata": {},
   "outputs": [
    {
     "name": "stdout",
     "output_type": "stream",
     "text": [
      "[0]\tTest-merror:0.46420\n",
      "[100]\tTest-merror:0.31852\n",
      "[200]\tTest-merror:0.30864\n",
      "[300]\tTest-merror:0.31358\n",
      "[400]\tTest-merror:0.32840\n",
      "[500]\tTest-merror:0.33580\n",
      "[600]\tTest-merror:0.33580\n",
      "[700]\tTest-merror:0.33580\n",
      "[800]\tTest-merror:0.33333\n",
      "[900]\tTest-merror:0.33086\n",
      "[999]\tTest-merror:0.33086\n"
     ]
    }
   ],
   "source": [
    "model = xgb.train(\n",
    "    params,\n",
    "    dtrain,\n",
    "    num_boost_round=num_boost_round,\n",
    "    evals=[(dtest, \"Test\")],\n",
    "    early_stopping_rounds=1000,\n",
    "    verbose_eval=100\n",
    ")"
   ]
  },
  {
   "cell_type": "code",
   "execution_count": 46,
   "metadata": {},
   "outputs": [
    {
     "name": "stdout",
     "output_type": "stream",
     "text": [
      "[0]\tTest-merror:0.46420\n",
      "[100]\tTest-merror:0.31852\n",
      "[146]\tTest-merror:0.30370\n"
     ]
    }
   ],
   "source": [
    "num_boost_round = model.best_iteration + 1\n",
    "best_model = xgb.train(\n",
    "    params,\n",
    "    dtrain,\n",
    "    verbose_eval=100,\n",
    "    num_boost_round=num_boost_round,\n",
    "    evals=[(dtest, \"Test\")]\n",
    ")"
   ]
  },
  {
   "cell_type": "code",
   "execution_count": 47,
   "metadata": {},
   "outputs": [
    {
     "data": {
      "text/plain": [
       "0.6962962962962963"
      ]
     },
     "execution_count": 47,
     "metadata": {},
     "output_type": "execute_result"
    }
   ],
   "source": [
    "metrics.accuracy_score(best_model.predict(dtest), y_test)"
   ]
  },
  {
   "cell_type": "markdown",
   "metadata": {},
   "source": [
    "## Confusion Matrix"
   ]
  },
  {
   "cell_type": "code",
   "execution_count": 48,
   "metadata": {},
   "outputs": [],
   "source": [
    "cm = confusion_matrix(y_test, y_pred_XGB)"
   ]
  },
  {
   "cell_type": "code",
   "execution_count": 49,
   "metadata": {
    "scrolled": false
   },
   "outputs": [
    {
     "data": {
      "image/png": "[encoded data removed]",
      "text/plain": [
       "<Figure size 800x800 with 2 Axes>"
      ]
     },
     "metadata": {},
     "output_type": "display_data"
    }
   ],
   "source": [
    "fig, ax = plt.subplots(figsize=(8,8))\n",
    "\n",
    "sns.heatmap(cm, annot = True, ax = ax, vmin=0, vmax=150, fmt=\"d\", linewidths=.5, linecolor = 'white', cmap=\"Reds\") # annot=True to annotate cells\n",
    "\n",
    "# labels, title and ticks\n",
    "ax.set_xlabel('Predicted labels')\n",
    "ax.set_ylabel('True labels');\n",
    "ax.set_title('Confusion Matrix');\n",
    "ax.xaxis.set_ticklabels(['Medium Risk','Highest Risk', 'Low Risk', 'High Risk'])\n",
    "ax.yaxis.set_ticklabels(['Medium Risk','Highest Risk', 'Low Risk', 'High Risk']);\n",
    "\n",
    "# This part is to correct a bug from the heatmap funciton from pyplot\n",
    "b, t = plt.ylim() # discover the values for bottom and top\n",
    "b += 0.5 # Add 0.5 to the bottom\n",
    "t -= 0.5 # Subtract 0.5 from the top\n",
    "plt.ylim(b, t) # update the ylim(bottom, top) values\n",
    "\n",
    "plt.show()"
   ]
  },
  {
   "cell_type": "code",
   "execution_count": 50,
   "metadata": {},
   "outputs": [
    {
     "name": "stdout",
     "output_type": "stream",
     "text": [
      "              precision    recall  f1-score   support\n",
      "\n",
      " Medium Risk       0.75      0.80      0.78       148\n",
      "Highest Risk       0.33      0.12      0.18         8\n",
      "    Low Risk       0.70      0.64      0.67       107\n",
      "   High Risk       0.60      0.61      0.61       142\n",
      "\n",
      "    accuracy                           0.68       405\n",
      "   macro avg       0.60      0.55      0.56       405\n",
      "weighted avg       0.68      0.68      0.68       405\n",
      "\n"
     ]
    }
   ],
   "source": [
    "print(classification_report(y_test, y_pred_XGB, target_names = ['Medium Risk','Highest Risk', 'Low Risk', 'High Risk']))"
   ]
  },
  {
   "cell_type": "markdown",
   "metadata": {},
   "source": [
    "## Feature Selection"
   ]
  },
  {
   "cell_type": "code",
   "execution_count": 51,
   "metadata": {},
   "outputs": [
    {
     "name": "stderr",
     "output_type": "stream",
     "text": [
      "/home/xlager/.local/share/virtualenvs/ml-company-raiting-prediction-EUfqgbUN/lib/python3.11/site-packages/sklearn/base.py:486: UserWarning: X has feature names, but SelectFromModel was fitted without feature names\n",
      "  warnings.warn(\n",
      "/home/xlager/.local/share/virtualenvs/ml-company-raiting-prediction-EUfqgbUN/lib/python3.11/site-packages/sklearn/base.py:486: UserWarning: X has feature names, but SelectFromModel was fitted without feature names\n",
      "  warnings.warn(\n",
      "/home/xlager/.local/share/virtualenvs/ml-company-raiting-prediction-EUfqgbUN/lib/python3.11/site-packages/sklearn/base.py:486: UserWarning: X has feature names, but SelectFromModel was fitted without feature names\n",
      "  warnings.warn(\n"
     ]
    },
    {
     "name": "stdout",
     "output_type": "stream",
     "text": [
      "Thresh=0.022, n=26, Accuracy: 68.15%\n"
     ]
    },
    {
     "name": "stderr",
     "output_type": "stream",
     "text": [
      "/home/xlager/.local/share/virtualenvs/ml-company-raiting-prediction-EUfqgbUN/lib/python3.11/site-packages/sklearn/base.py:486: UserWarning: X has feature names, but SelectFromModel was fitted without feature names\n",
      "  warnings.warn(\n",
      "/home/xlager/.local/share/virtualenvs/ml-company-raiting-prediction-EUfqgbUN/lib/python3.11/site-packages/sklearn/base.py:486: UserWarning: X has feature names, but SelectFromModel was fitted without feature names\n",
      "  warnings.warn(\n"
     ]
    },
    {
     "name": "stdout",
     "output_type": "stream",
     "text": [
      "Thresh=0.024, n=25, Accuracy: 66.67%\n"
     ]
    },
    {
     "name": "stderr",
     "output_type": "stream",
     "text": [
      "/home/xlager/.local/share/virtualenvs/ml-company-raiting-prediction-EUfqgbUN/lib/python3.11/site-packages/sklearn/base.py:486: UserWarning: X has feature names, but SelectFromModel was fitted without feature names\n",
      "  warnings.warn(\n",
      "/home/xlager/.local/share/virtualenvs/ml-company-raiting-prediction-EUfqgbUN/lib/python3.11/site-packages/sklearn/base.py:486: UserWarning: X has feature names, but SelectFromModel was fitted without feature names\n",
      "  warnings.warn(\n"
     ]
    },
    {
     "name": "stdout",
     "output_type": "stream",
     "text": [
      "Thresh=0.025, n=24, Accuracy: 66.42%\n"
     ]
    },
    {
     "name": "stderr",
     "output_type": "stream",
     "text": [
      "/home/xlager/.local/share/virtualenvs/ml-company-raiting-prediction-EUfqgbUN/lib/python3.11/site-packages/sklearn/base.py:486: UserWarning: X has feature names, but SelectFromModel was fitted without feature names\n",
      "  warnings.warn(\n",
      "/home/xlager/.local/share/virtualenvs/ml-company-raiting-prediction-EUfqgbUN/lib/python3.11/site-packages/sklearn/base.py:486: UserWarning: X has feature names, but SelectFromModel was fitted without feature names\n",
      "  warnings.warn(\n"
     ]
    },
    {
     "name": "stdout",
     "output_type": "stream",
     "text": [
      "Thresh=0.027, n=23, Accuracy: 68.40%\n"
     ]
    },
    {
     "name": "stderr",
     "output_type": "stream",
     "text": [
      "/home/xlager/.local/share/virtualenvs/ml-company-raiting-prediction-EUfqgbUN/lib/python3.11/site-packages/sklearn/base.py:486: UserWarning: X has feature names, but SelectFromModel was fitted without feature names\n",
      "  warnings.warn(\n",
      "/home/xlager/.local/share/virtualenvs/ml-company-raiting-prediction-EUfqgbUN/lib/python3.11/site-packages/sklearn/base.py:486: UserWarning: X has feature names, but SelectFromModel was fitted without feature names\n",
      "  warnings.warn(\n"
     ]
    },
    {
     "name": "stdout",
     "output_type": "stream",
     "text": [
      "Thresh=0.028, n=22, Accuracy: 65.43%\n"
     ]
    },
    {
     "name": "stderr",
     "output_type": "stream",
     "text": [
      "/home/xlager/.local/share/virtualenvs/ml-company-raiting-prediction-EUfqgbUN/lib/python3.11/site-packages/sklearn/base.py:486: UserWarning: X has feature names, but SelectFromModel was fitted without feature names\n",
      "  warnings.warn(\n",
      "/home/xlager/.local/share/virtualenvs/ml-company-raiting-prediction-EUfqgbUN/lib/python3.11/site-packages/sklearn/base.py:486: UserWarning: X has feature names, but SelectFromModel was fitted without feature names\n",
      "  warnings.warn(\n"
     ]
    },
    {
     "name": "stdout",
     "output_type": "stream",
     "text": [
      "Thresh=0.029, n=21, Accuracy: 65.93%\n"
     ]
    },
    {
     "name": "stderr",
     "output_type": "stream",
     "text": [
      "/home/xlager/.local/share/virtualenvs/ml-company-raiting-prediction-EUfqgbUN/lib/python3.11/site-packages/sklearn/base.py:486: UserWarning: X has feature names, but SelectFromModel was fitted without feature names\n",
      "  warnings.warn(\n",
      "/home/xlager/.local/share/virtualenvs/ml-company-raiting-prediction-EUfqgbUN/lib/python3.11/site-packages/sklearn/base.py:486: UserWarning: X has feature names, but SelectFromModel was fitted without feature names\n",
      "  warnings.warn(\n"
     ]
    },
    {
     "name": "stdout",
     "output_type": "stream",
     "text": [
      "Thresh=0.029, n=20, Accuracy: 66.17%\n"
     ]
    },
    {
     "name": "stderr",
     "output_type": "stream",
     "text": [
      "/home/xlager/.local/share/virtualenvs/ml-company-raiting-prediction-EUfqgbUN/lib/python3.11/site-packages/sklearn/base.py:486: UserWarning: X has feature names, but SelectFromModel was fitted without feature names\n",
      "  warnings.warn(\n",
      "/home/xlager/.local/share/virtualenvs/ml-company-raiting-prediction-EUfqgbUN/lib/python3.11/site-packages/sklearn/base.py:486: UserWarning: X has feature names, but SelectFromModel was fitted without feature names\n",
      "  warnings.warn(\n"
     ]
    },
    {
     "name": "stdout",
     "output_type": "stream",
     "text": [
      "Thresh=0.030, n=19, Accuracy: 64.20%\n"
     ]
    },
    {
     "name": "stderr",
     "output_type": "stream",
     "text": [
      "/home/xlager/.local/share/virtualenvs/ml-company-raiting-prediction-EUfqgbUN/lib/python3.11/site-packages/sklearn/base.py:486: UserWarning: X has feature names, but SelectFromModel was fitted without feature names\n",
      "  warnings.warn(\n",
      "/home/xlager/.local/share/virtualenvs/ml-company-raiting-prediction-EUfqgbUN/lib/python3.11/site-packages/sklearn/base.py:486: UserWarning: X has feature names, but SelectFromModel was fitted without feature names\n",
      "  warnings.warn(\n"
     ]
    },
    {
     "name": "stdout",
     "output_type": "stream",
     "text": [
      "Thresh=0.030, n=18, Accuracy: 65.43%\n"
     ]
    },
    {
     "name": "stderr",
     "output_type": "stream",
     "text": [
      "/home/xlager/.local/share/virtualenvs/ml-company-raiting-prediction-EUfqgbUN/lib/python3.11/site-packages/sklearn/base.py:486: UserWarning: X has feature names, but SelectFromModel was fitted without feature names\n",
      "  warnings.warn(\n",
      "/home/xlager/.local/share/virtualenvs/ml-company-raiting-prediction-EUfqgbUN/lib/python3.11/site-packages/sklearn/base.py:486: UserWarning: X has feature names, but SelectFromModel was fitted without feature names\n",
      "  warnings.warn(\n"
     ]
    },
    {
     "name": "stdout",
     "output_type": "stream",
     "text": [
      "Thresh=0.033, n=17, Accuracy: 64.94%\n"
     ]
    },
    {
     "name": "stderr",
     "output_type": "stream",
     "text": [
      "/home/xlager/.local/share/virtualenvs/ml-company-raiting-prediction-EUfqgbUN/lib/python3.11/site-packages/sklearn/base.py:486: UserWarning: X has feature names, but SelectFromModel was fitted without feature names\n",
      "  warnings.warn(\n",
      "/home/xlager/.local/share/virtualenvs/ml-company-raiting-prediction-EUfqgbUN/lib/python3.11/site-packages/sklearn/base.py:486: UserWarning: X has feature names, but SelectFromModel was fitted without feature names\n",
      "  warnings.warn(\n"
     ]
    },
    {
     "name": "stdout",
     "output_type": "stream",
     "text": [
      "Thresh=0.034, n=16, Accuracy: 63.46%\n"
     ]
    },
    {
     "name": "stderr",
     "output_type": "stream",
     "text": [
      "/home/xlager/.local/share/virtualenvs/ml-company-raiting-prediction-EUfqgbUN/lib/python3.11/site-packages/sklearn/base.py:486: UserWarning: X has feature names, but SelectFromModel was fitted without feature names\n",
      "  warnings.warn(\n",
      "/home/xlager/.local/share/virtualenvs/ml-company-raiting-prediction-EUfqgbUN/lib/python3.11/site-packages/sklearn/base.py:486: UserWarning: X has feature names, but SelectFromModel was fitted without feature names\n",
      "  warnings.warn(\n"
     ]
    },
    {
     "name": "stdout",
     "output_type": "stream",
     "text": [
      "Thresh=0.034, n=15, Accuracy: 64.44%\n"
     ]
    },
    {
     "name": "stderr",
     "output_type": "stream",
     "text": [
      "/home/xlager/.local/share/virtualenvs/ml-company-raiting-prediction-EUfqgbUN/lib/python3.11/site-packages/sklearn/base.py:486: UserWarning: X has feature names, but SelectFromModel was fitted without feature names\n",
      "  warnings.warn(\n",
      "/home/xlager/.local/share/virtualenvs/ml-company-raiting-prediction-EUfqgbUN/lib/python3.11/site-packages/sklearn/base.py:486: UserWarning: X has feature names, but SelectFromModel was fitted without feature names\n",
      "  warnings.warn(\n"
     ]
    },
    {
     "name": "stdout",
     "output_type": "stream",
     "text": [
      "Thresh=0.034, n=14, Accuracy: 63.21%\n"
     ]
    },
    {
     "name": "stderr",
     "output_type": "stream",
     "text": [
      "/home/xlager/.local/share/virtualenvs/ml-company-raiting-prediction-EUfqgbUN/lib/python3.11/site-packages/sklearn/base.py:486: UserWarning: X has feature names, but SelectFromModel was fitted without feature names\n",
      "  warnings.warn(\n",
      "/home/xlager/.local/share/virtualenvs/ml-company-raiting-prediction-EUfqgbUN/lib/python3.11/site-packages/sklearn/base.py:486: UserWarning: X has feature names, but SelectFromModel was fitted without feature names\n",
      "  warnings.warn(\n"
     ]
    },
    {
     "name": "stdout",
     "output_type": "stream",
     "text": [
      "Thresh=0.035, n=13, Accuracy: 65.43%\n"
     ]
    },
    {
     "name": "stderr",
     "output_type": "stream",
     "text": [
      "/home/xlager/.local/share/virtualenvs/ml-company-raiting-prediction-EUfqgbUN/lib/python3.11/site-packages/sklearn/base.py:486: UserWarning: X has feature names, but SelectFromModel was fitted without feature names\n",
      "  warnings.warn(\n",
      "/home/xlager/.local/share/virtualenvs/ml-company-raiting-prediction-EUfqgbUN/lib/python3.11/site-packages/sklearn/base.py:486: UserWarning: X has feature names, but SelectFromModel was fitted without feature names\n",
      "  warnings.warn(\n"
     ]
    },
    {
     "name": "stdout",
     "output_type": "stream",
     "text": [
      "Thresh=0.036, n=12, Accuracy: 63.46%\n"
     ]
    },
    {
     "name": "stderr",
     "output_type": "stream",
     "text": [
      "/home/xlager/.local/share/virtualenvs/ml-company-raiting-prediction-EUfqgbUN/lib/python3.11/site-packages/sklearn/base.py:486: UserWarning: X has feature names, but SelectFromModel was fitted without feature names\n",
      "  warnings.warn(\n",
      "/home/xlager/.local/share/virtualenvs/ml-company-raiting-prediction-EUfqgbUN/lib/python3.11/site-packages/sklearn/base.py:486: UserWarning: X has feature names, but SelectFromModel was fitted without feature names\n",
      "  warnings.warn(\n"
     ]
    },
    {
     "name": "stdout",
     "output_type": "stream",
     "text": [
      "Thresh=0.036, n=11, Accuracy: 61.23%\n"
     ]
    },
    {
     "name": "stderr",
     "output_type": "stream",
     "text": [
      "/home/xlager/.local/share/virtualenvs/ml-company-raiting-prediction-EUfqgbUN/lib/python3.11/site-packages/sklearn/base.py:486: UserWarning: X has feature names, but SelectFromModel was fitted without feature names\n",
      "  warnings.warn(\n",
      "/home/xlager/.local/share/virtualenvs/ml-company-raiting-prediction-EUfqgbUN/lib/python3.11/site-packages/sklearn/base.py:486: UserWarning: X has feature names, but SelectFromModel was fitted without feature names\n",
      "  warnings.warn(\n"
     ]
    },
    {
     "name": "stdout",
     "output_type": "stream",
     "text": [
      "Thresh=0.037, n=10, Accuracy: 61.48%\n"
     ]
    },
    {
     "name": "stderr",
     "output_type": "stream",
     "text": [
      "/home/xlager/.local/share/virtualenvs/ml-company-raiting-prediction-EUfqgbUN/lib/python3.11/site-packages/sklearn/base.py:486: UserWarning: X has feature names, but SelectFromModel was fitted without feature names\n",
      "  warnings.warn(\n",
      "/home/xlager/.local/share/virtualenvs/ml-company-raiting-prediction-EUfqgbUN/lib/python3.11/site-packages/sklearn/base.py:486: UserWarning: X has feature names, but SelectFromModel was fitted without feature names\n",
      "  warnings.warn(\n"
     ]
    },
    {
     "name": "stdout",
     "output_type": "stream",
     "text": [
      "Thresh=0.037, n=9, Accuracy: 60.99%\n"
     ]
    },
    {
     "name": "stderr",
     "output_type": "stream",
     "text": [
      "/home/xlager/.local/share/virtualenvs/ml-company-raiting-prediction-EUfqgbUN/lib/python3.11/site-packages/sklearn/base.py:486: UserWarning: X has feature names, but SelectFromModel was fitted without feature names\n",
      "  warnings.warn(\n",
      "/home/xlager/.local/share/virtualenvs/ml-company-raiting-prediction-EUfqgbUN/lib/python3.11/site-packages/sklearn/base.py:486: UserWarning: X has feature names, but SelectFromModel was fitted without feature names\n",
      "  warnings.warn(\n"
     ]
    },
    {
     "name": "stdout",
     "output_type": "stream",
     "text": [
      "Thresh=0.038, n=8, Accuracy: 59.26%\n"
     ]
    },
    {
     "name": "stderr",
     "output_type": "stream",
     "text": [
      "/home/xlager/.local/share/virtualenvs/ml-company-raiting-prediction-EUfqgbUN/lib/python3.11/site-packages/sklearn/base.py:486: UserWarning: X has feature names, but SelectFromModel was fitted without feature names\n",
      "  warnings.warn(\n",
      "/home/xlager/.local/share/virtualenvs/ml-company-raiting-prediction-EUfqgbUN/lib/python3.11/site-packages/sklearn/base.py:486: UserWarning: X has feature names, but SelectFromModel was fitted without feature names\n",
      "  warnings.warn(\n"
     ]
    },
    {
     "name": "stdout",
     "output_type": "stream",
     "text": [
      "Thresh=0.041, n=7, Accuracy: 57.78%\n"
     ]
    },
    {
     "name": "stderr",
     "output_type": "stream",
     "text": [
      "/home/xlager/.local/share/virtualenvs/ml-company-raiting-prediction-EUfqgbUN/lib/python3.11/site-packages/sklearn/base.py:486: UserWarning: X has feature names, but SelectFromModel was fitted without feature names\n",
      "  warnings.warn(\n",
      "/home/xlager/.local/share/virtualenvs/ml-company-raiting-prediction-EUfqgbUN/lib/python3.11/site-packages/sklearn/base.py:486: UserWarning: X has feature names, but SelectFromModel was fitted without feature names\n",
      "  warnings.warn(\n"
     ]
    },
    {
     "name": "stdout",
     "output_type": "stream",
     "text": [
      "Thresh=0.042, n=6, Accuracy: 55.56%\n"
     ]
    },
    {
     "name": "stderr",
     "output_type": "stream",
     "text": [
      "/home/xlager/.local/share/virtualenvs/ml-company-raiting-prediction-EUfqgbUN/lib/python3.11/site-packages/sklearn/base.py:486: UserWarning: X has feature names, but SelectFromModel was fitted without feature names\n",
      "  warnings.warn(\n",
      "/home/xlager/.local/share/virtualenvs/ml-company-raiting-prediction-EUfqgbUN/lib/python3.11/site-packages/sklearn/base.py:486: UserWarning: X has feature names, but SelectFromModel was fitted without feature names\n",
      "  warnings.warn(\n"
     ]
    },
    {
     "name": "stdout",
     "output_type": "stream",
     "text": [
      "Thresh=0.052, n=5, Accuracy: 49.63%\n"
     ]
    },
    {
     "name": "stderr",
     "output_type": "stream",
     "text": [
      "/home/xlager/.local/share/virtualenvs/ml-company-raiting-prediction-EUfqgbUN/lib/python3.11/site-packages/sklearn/base.py:486: UserWarning: X has feature names, but SelectFromModel was fitted without feature names\n",
      "  warnings.warn(\n",
      "/home/xlager/.local/share/virtualenvs/ml-company-raiting-prediction-EUfqgbUN/lib/python3.11/site-packages/sklearn/base.py:486: UserWarning: X has feature names, but SelectFromModel was fitted without feature names\n",
      "  warnings.warn(\n"
     ]
    },
    {
     "name": "stdout",
     "output_type": "stream",
     "text": [
      "Thresh=0.058, n=4, Accuracy: 49.38%\n"
     ]
    },
    {
     "name": "stderr",
     "output_type": "stream",
     "text": [
      "/home/xlager/.local/share/virtualenvs/ml-company-raiting-prediction-EUfqgbUN/lib/python3.11/site-packages/sklearn/base.py:486: UserWarning: X has feature names, but SelectFromModel was fitted without feature names\n",
      "  warnings.warn(\n",
      "/home/xlager/.local/share/virtualenvs/ml-company-raiting-prediction-EUfqgbUN/lib/python3.11/site-packages/sklearn/base.py:486: UserWarning: X has feature names, but SelectFromModel was fitted without feature names\n",
      "  warnings.warn(\n"
     ]
    },
    {
     "name": "stdout",
     "output_type": "stream",
     "text": [
      "Thresh=0.070, n=3, Accuracy: 44.69%\n"
     ]
    },
    {
     "name": "stderr",
     "output_type": "stream",
     "text": [
      "/home/xlager/.local/share/virtualenvs/ml-company-raiting-prediction-EUfqgbUN/lib/python3.11/site-packages/sklearn/base.py:486: UserWarning: X has feature names, but SelectFromModel was fitted without feature names\n",
      "  warnings.warn(\n",
      "/home/xlager/.local/share/virtualenvs/ml-company-raiting-prediction-EUfqgbUN/lib/python3.11/site-packages/sklearn/base.py:486: UserWarning: X has feature names, but SelectFromModel was fitted without feature names\n",
      "  warnings.warn(\n"
     ]
    },
    {
     "name": "stdout",
     "output_type": "stream",
     "text": [
      "Thresh=0.071, n=2, Accuracy: 43.95%\n",
      "Thresh=0.072, n=1, Accuracy: 41.73%\n"
     ]
    },
    {
     "name": "stderr",
     "output_type": "stream",
     "text": [
      "/home/xlager/.local/share/virtualenvs/ml-company-raiting-prediction-EUfqgbUN/lib/python3.11/site-packages/sklearn/base.py:486: UserWarning: X has feature names, but SelectFromModel was fitted without feature names\n",
      "  warnings.warn(\n"
     ]
    }
   ],
   "source": [
    "thresholds = sort(XGB_model.feature_importances_)\n",
    "for thresh in thresholds:\n",
    "    # select features using threshold\n",
    "    selection = SelectFromModel(XGB_model, threshold=thresh, prefit=True)\n",
    "    select_X_train = selection.transform(X_train)\n",
    "    # train model\n",
    "    selection_model = XGBClassifier()\n",
    "    selection_model.fit(select_X_train, y_train)\n",
    "    # eval model\n",
    "    select_X_test = selection.transform(X_test)\n",
    "    y_pred = selection_model.predict(select_X_test)\n",
    "    predictions = [round(value) for value in y_pred]\n",
    "    accuracy = accuracy_score(y_test, predictions)\n",
    "    print(\"Thresh=%.3f, n=%d, Accuracy: %.2f%%\" % (thresh, select_X_train.shape[1], accuracy*100.0))"
   ]
  },
  {
   "cell_type": "code",
   "execution_count": 52,
   "metadata": {},
   "outputs": [
    {
     "data": {
      "image/png": "[encoded data removed]",
      "text/plain": [
       "<Figure size 800x800 with 1 Axes>"
      ]
     },
     "metadata": {},
     "output_type": "display_data"
    }
   ],
   "source": [
    "from xgboost import plot_importance\n",
    "\n",
    "fig, ax = plt.subplots(figsize=(8, 8))\n",
    "# xgboost.plot_importance(..., ax=ax)\n",
    "\n",
    "plot_importance(model, ax=ax)\n",
    "plt.show()"
   ]
  },
  {
   "cell_type": "markdown",
   "metadata": {},
   "source": [
    "# Dump model"
   ]
  },
  {
   "cell_type": "code",
   "execution_count": null,
   "metadata": {},
   "outputs": [],
   "source": [
    "# from onnxmltools.common.data_types import *"
   ]
  },
  {
   "cell_type": "code",
   "execution_count": 54,
   "metadata": {},
   "outputs": [
    {
     "ename": "ValueError",
     "evalue": "Initial types are required. See usage of convert(...) in                            onnxmltools.convert.xgboost.convert for details",
     "output_type": "error",
     "traceback": [
      "\u001b[0;31m---------------------------------------------------------------------------\u001b[0m",
      "\u001b[0;31mValueError\u001b[0m                                Traceback (most recent call last)",
      "Cell \u001b[0;32mIn[54], line 3\u001b[0m\n\u001b[1;32m      1\u001b[0m \u001b[38;5;66;03m# dump = model.get_dump()\u001b[39;00m\n\u001b[0;32m----> 3\u001b[0m onnx_model \u001b[38;5;241m=\u001b[39m \u001b[43mconvert_xgboost\u001b[49m\u001b[43m(\u001b[49m\u001b[43mmodel\u001b[49m\u001b[43m)\u001b[49m\n\u001b[1;32m      5\u001b[0m onnxmltools\u001b[38;5;241m.\u001b[39mutils\u001b[38;5;241m.\u001b[39msave_model(onnx_model, \u001b[38;5;124m\"\u001b[39m\u001b[38;5;124mrating-prediction.onnx\u001b[39m\u001b[38;5;124m\"\u001b[39m)\n",
      "File \u001b[0;32m~/.local/share/virtualenvs/ml-company-raiting-prediction-EUfqgbUN/lib/python3.11/site-packages/onnxmltools/convert/main.py:327\u001b[0m, in \u001b[0;36mconvert_xgboost\u001b[0;34m(*args, **kwargs)\u001b[0m\n\u001b[1;32m    321\u001b[0m     \u001b[38;5;28;01mraise\u001b[39;00m \u001b[38;5;167;01mRuntimeError\u001b[39;00m(\n\u001b[1;32m    322\u001b[0m         \u001b[38;5;124m\"\u001b[39m\u001b[38;5;124mxgboost is not installed. Please install xgboost to use this feature.\u001b[39m\u001b[38;5;124m\"\u001b[39m\n\u001b[1;32m    323\u001b[0m     )\n\u001b[1;32m    325\u001b[0m \u001b[38;5;28;01mfrom\u001b[39;00m \u001b[38;5;21;01m.\u001b[39;00m\u001b[38;5;21;01mxgboost\u001b[39;00m\u001b[38;5;21;01m.\u001b[39;00m\u001b[38;5;21;01mconvert\u001b[39;00m \u001b[38;5;28;01mimport\u001b[39;00m convert\n\u001b[0;32m--> 327\u001b[0m \u001b[38;5;28;01mreturn\u001b[39;00m \u001b[43mconvert\u001b[49m\u001b[43m(\u001b[49m\u001b[38;5;241;43m*\u001b[39;49m\u001b[43margs\u001b[49m\u001b[43m,\u001b[49m\u001b[43m \u001b[49m\u001b[38;5;241;43m*\u001b[39;49m\u001b[38;5;241;43m*\u001b[39;49m\u001b[43mkwargs\u001b[49m\u001b[43m)\u001b[49m\n",
      "File \u001b[0;32m~/.local/share/virtualenvs/ml-company-raiting-prediction-EUfqgbUN/lib/python3.11/site-packages/onnxmltools/convert/xgboost/convert.py:45\u001b[0m, in \u001b[0;36mconvert\u001b[0;34m(model, name, initial_types, doc_string, target_opset, targeted_onnx, custom_conversion_functions, custom_shape_calculators)\u001b[0m\n\u001b[1;32m     24\u001b[0m \u001b[38;5;250m\u001b[39m\u001b[38;5;124;03m\"\"\"\u001b[39;00m\n\u001b[1;32m     25\u001b[0m \u001b[38;5;124;03mThis function produces an equivalent ONNX model of the given xgboost model.\u001b[39;00m\n\u001b[1;32m     26\u001b[0m \n\u001b[0;32m   (...)\u001b[0m\n\u001b[1;32m     42\u001b[0m \u001b[38;5;124;03m:return: An ONNX model (type: ModelProto) which is equivalent to the input xgboost model\u001b[39;00m\n\u001b[1;32m     43\u001b[0m \u001b[38;5;124;03m\"\"\"\u001b[39;00m\n\u001b[1;32m     44\u001b[0m \u001b[38;5;28;01mif\u001b[39;00m initial_types \u001b[38;5;129;01mis\u001b[39;00m \u001b[38;5;28;01mNone\u001b[39;00m:\n\u001b[0;32m---> 45\u001b[0m     \u001b[38;5;28;01mraise\u001b[39;00m \u001b[38;5;167;01mValueError\u001b[39;00m(\n\u001b[1;32m     46\u001b[0m         \u001b[38;5;124m\"\u001b[39m\u001b[38;5;124mInitial types are required. See usage of convert(...) in \u001b[39m\u001b[38;5;130;01m\\\u001b[39;00m\n\u001b[1;32m     47\u001b[0m \u001b[38;5;124m                       onnxmltools.convert.xgboost.convert for details\u001b[39m\u001b[38;5;124m\"\u001b[39m\n\u001b[1;32m     48\u001b[0m     )\n\u001b[1;32m     49\u001b[0m \u001b[38;5;28;01mif\u001b[39;00m name \u001b[38;5;129;01mis\u001b[39;00m \u001b[38;5;28;01mNone\u001b[39;00m:\n\u001b[1;32m     50\u001b[0m     name \u001b[38;5;241m=\u001b[39m \u001b[38;5;28mstr\u001b[39m(uuid4()\u001b[38;5;241m.\u001b[39mhex)\n",
      "\u001b[0;31mValueError\u001b[0m: Initial types are required. See usage of convert(...) in                            onnxmltools.convert.xgboost.convert for details"
     ]
    }
   ],
   "source": [
    "# dump = model.get_dump()\n",
    "\n",
    "# onnx_model = convert_xgboost(model)\n",
    "\n",
    "# onnxmltools.utils.save_model(onnx_model, \"rating-prediction.onnx\")\n",
    "\n",
    "# onnx_model = onnxmltools.convert_lightgbm(lgb_model, initial_types=[(variable_name, data_type), (variable_name, data_type)])\n",
    "\n",
    "# # Save as protobuf\n",
    "# onnxmltools.utils.save_model(onnx_model, output_onnx_model)\n"
   ]
  },
  {
   "cell_type": "code",
   "execution_count": 56,
   "metadata": {},
   "outputs": [],
   "source": [
    "# model.save_model(\"rating-prediction.json\")"
   ]
  },
  {
   "cell_type": "code",
   "execution_count": 57,
   "metadata": {},
   "outputs": [
    {
     "ename": "AttributeError",
     "evalue": "module 'xgboost' has no attribute 'to_onnx'",
     "output_type": "error",
     "traceback": [
      "\u001b[0;31m---------------------------------------------------------------------------\u001b[0m",
      "\u001b[0;31mAttributeError\u001b[0m                            Traceback (most recent call last)",
      "Cell \u001b[0;32mIn[57], line 1\u001b[0m\n\u001b[0;32m----> 1\u001b[0m onnx_model \u001b[38;5;241m=\u001b[39m \u001b[43mxgb\u001b[49m\u001b[38;5;241;43m.\u001b[39;49m\u001b[43mto_onnx\u001b[49m(model, input_name\u001b[38;5;241m=\u001b[39m\u001b[38;5;124m'\u001b[39m\u001b[38;5;124minput\u001b[39m\u001b[38;5;124m'\u001b[39m, output_name\u001b[38;5;241m=\u001b[39m\u001b[38;5;124m'\u001b[39m\u001b[38;5;124moutput\u001b[39m\u001b[38;5;124m'\u001b[39m)\n\u001b[1;32m      3\u001b[0m \u001b[38;5;66;03m# Save the ONNX model to a file\u001b[39;00m\n\u001b[1;32m      4\u001b[0m \u001b[38;5;28;01mwith\u001b[39;00m \u001b[38;5;28mopen\u001b[39m(\u001b[38;5;124m'\u001b[39m\u001b[38;5;124mrating-prediction.onnx\u001b[39m\u001b[38;5;124m'\u001b[39m, \u001b[38;5;124m'\u001b[39m\u001b[38;5;124mwb\u001b[39m\u001b[38;5;124m'\u001b[39m) \u001b[38;5;28;01mas\u001b[39;00m f:\n",
      "\u001b[0;31mAttributeError\u001b[0m: module 'xgboost' has no attribute 'to_onnx'"
     ]
    }
   ],
   "source": [
    "# onnx_model = xgb.to_onnx(model, input_name='input', output_name='output')\n",
    "\n",
    "# # Save the ONNX model to a file\n",
    "# with open('rating-prediction.onnx', 'wb') as f:\n",
    "#     f.write(onnx_model.SerializeToString())"
   ]
  }
 ],
 "metadata": {
  "kernelspec": {
   "display_name": "Python 3",
   "language": "python",
   "name": "python3"
  },
  "language_info": {
   "codemirror_mode": {
    "name": "ipython",
    "version": 3
   },
   "file_extension": ".py",
   "mimetype": "text/x-python",
   "name": "python",
   "nbconvert_exporter": "python",
   "pygments_lexer": "ipython3",
   "version": "3.11.2"
  }
 },
 "nbformat": 4,
 "nbformat_minor": 4
}
