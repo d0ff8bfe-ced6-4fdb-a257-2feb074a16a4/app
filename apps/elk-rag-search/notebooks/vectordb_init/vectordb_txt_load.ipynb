{
 "cells": [
  {
   "cell_type": "code",
   "execution_count": 1,
   "id": "cb40584a-b7c5-459a-b586-9ebf7db9c1a5",
   "metadata": {
    "scrolled": true
   },
   "outputs": [
    {
     "name": "stdout",
     "output_type": "stream",
     "text": [
      "Requirement already satisfied: chromadb in /opt/conda/lib/python3.11/site-packages (0.4.22)\n",
      "Requirement already satisfied: build>=1.0.3 in /opt/conda/lib/python3.11/site-packages (from chromadb) (1.0.3)\n",
      "Requirement already satisfied: requests>=2.28 in /opt/conda/lib/python3.11/site-packages (from chromadb) (2.31.0)\n",
      "Requirement already satisfied: pydantic>=1.9 in /opt/conda/lib/python3.11/site-packages (from chromadb) (2.5.3)\n",
      "Requirement already satisfied: chroma-hnswlib==0.7.3 in /opt/conda/lib/python3.11/site-packages (from chromadb) (0.7.3)\n",
      "Requirement already satisfied: fastapi>=0.95.2 in /opt/conda/lib/python3.11/site-packages (from chromadb) (0.109.0)\n",
      "Requirement already satisfied: uvicorn>=0.18.3 in /opt/conda/lib/python3.11/site-packages (from uvicorn[standard]>=0.18.3->chromadb) (0.26.0)\n",
      "Requirement already satisfied: numpy>=1.22.5 in /opt/conda/lib/python3.11/site-packages (from chromadb) (1.26.4)\n",
      "Requirement already satisfied: posthog>=2.4.0 in /opt/conda/lib/python3.11/site-packages (from chromadb) (3.3.2)\n",
      "Requirement already satisfied: typing-extensions>=4.5.0 in /opt/conda/lib/python3.11/site-packages (from chromadb) (4.9.0)\n",
      "Requirement already satisfied: pulsar-client>=3.1.0 in /opt/conda/lib/python3.11/site-packages (from chromadb) (3.4.0)\n",
      "Requirement already satisfied: onnxruntime>=1.14.1 in /opt/conda/lib/python3.11/site-packages (from chromadb) (1.15.1)\n",
      "Requirement already satisfied: opentelemetry-api>=1.2.0 in /opt/conda/lib/python3.11/site-packages (from chromadb) (1.22.0)\n",
      "Requirement already satisfied: opentelemetry-exporter-otlp-proto-grpc>=1.2.0 in /opt/conda/lib/python3.11/site-packages (from chromadb) (1.22.0)\n",
      "Requirement already satisfied: opentelemetry-instrumentation-fastapi>=0.41b0 in /opt/conda/lib/python3.11/site-packages (from chromadb) (0.43b0)\n",
      "Requirement already satisfied: opentelemetry-sdk>=1.2.0 in /opt/conda/lib/python3.11/site-packages (from chromadb) (1.22.0)\n",
      "Requirement already satisfied: tokenizers>=0.13.2 in /opt/conda/lib/python3.11/site-packages (from chromadb) (0.15.1)\n",
      "Requirement already satisfied: pypika>=0.48.9 in /opt/conda/lib/python3.11/site-packages (from chromadb) (0.48.9)\n",
      "Requirement already satisfied: tqdm>=4.65.0 in /opt/conda/lib/python3.11/site-packages (from chromadb) (4.66.2)\n",
      "Requirement already satisfied: overrides>=7.3.1 in /opt/conda/lib/python3.11/site-packages (from chromadb) (7.4.0)\n",
      "Requirement already satisfied: importlib-resources in /opt/conda/lib/python3.11/site-packages (from chromadb) (6.1.1)\n",
      "Requirement already satisfied: grpcio>=1.58.0 in /opt/conda/lib/python3.11/site-packages (from chromadb) (1.60.0)\n",
      "Requirement already satisfied: bcrypt>=4.0.1 in /opt/conda/lib/python3.11/site-packages (from chromadb) (4.1.2)\n",
      "Requirement already satisfied: typer>=0.9.0 in /opt/conda/lib/python3.11/site-packages (from chromadb) (0.9.0)\n",
      "Requirement already satisfied: kubernetes>=28.1.0 in /opt/conda/lib/python3.11/site-packages (from chromadb) (29.0.0)\n",
      "Requirement already satisfied: tenacity>=8.2.3 in /opt/conda/lib/python3.11/site-packages (from chromadb) (8.2.3)\n",
      "Requirement already satisfied: PyYAML>=6.0.0 in /opt/conda/lib/python3.11/site-packages (from chromadb) (6.0.1)\n",
      "Requirement already satisfied: mmh3>=4.0.1 in /opt/conda/lib/python3.11/site-packages (from chromadb) (4.1.0)\n",
      "Requirement already satisfied: packaging>=19.0 in /opt/conda/lib/python3.11/site-packages (from build>=1.0.3->chromadb) (23.2)\n",
      "Requirement already satisfied: pyproject_hooks in /opt/conda/lib/python3.11/site-packages (from build>=1.0.3->chromadb) (1.0.0)\n",
      "Requirement already satisfied: starlette<0.36.0,>=0.35.0 in /opt/conda/lib/python3.11/site-packages (from fastapi>=0.95.2->chromadb) (0.35.1)\n",
      "Requirement already satisfied: certifi>=14.05.14 in /opt/conda/lib/python3.11/site-packages (from kubernetes>=28.1.0->chromadb) (2024.2.2)\n",
      "Requirement already satisfied: six>=1.9.0 in /opt/conda/lib/python3.11/site-packages (from kubernetes>=28.1.0->chromadb) (1.16.0)\n",
      "Requirement already satisfied: python-dateutil>=2.5.3 in /opt/conda/lib/python3.11/site-packages (from kubernetes>=28.1.0->chromadb) (2.8.2)\n",
      "Requirement already satisfied: google-auth>=1.0.1 in /opt/conda/lib/python3.11/site-packages (from kubernetes>=28.1.0->chromadb) (2.26.2)\n",
      "Requirement already satisfied: websocket-client!=0.40.0,!=0.41.*,!=0.42.*,>=0.32.0 in /opt/conda/lib/python3.11/site-packages (from kubernetes>=28.1.0->chromadb) (1.7.0)\n",
      "Requirement already satisfied: requests-oauthlib in /opt/conda/lib/python3.11/site-packages (from kubernetes>=28.1.0->chromadb) (1.3.1)\n",
      "Requirement already satisfied: oauthlib>=3.2.2 in /opt/conda/lib/python3.11/site-packages (from kubernetes>=28.1.0->chromadb) (3.2.2)\n",
      "Requirement already satisfied: urllib3>=1.24.2 in /opt/conda/lib/python3.11/site-packages (from kubernetes>=28.1.0->chromadb) (1.26.18)\n",
      "Requirement already satisfied: coloredlogs in /opt/conda/lib/python3.11/site-packages (from onnxruntime>=1.14.1->chromadb) (15.0.1)\n",
      "Requirement already satisfied: flatbuffers in /opt/conda/lib/python3.11/site-packages (from onnxruntime>=1.14.1->chromadb) (23.5.26)\n",
      "Requirement already satisfied: protobuf in /opt/conda/lib/python3.11/site-packages (from onnxruntime>=1.14.1->chromadb) (4.25.2)\n",
      "Requirement already satisfied: sympy in /opt/conda/lib/python3.11/site-packages (from onnxruntime>=1.14.1->chromadb) (1.12)\n",
      "Requirement already satisfied: deprecated>=1.2.6 in /opt/conda/lib/python3.11/site-packages (from opentelemetry-api>=1.2.0->chromadb) (1.2.14)\n",
      "Requirement already satisfied: importlib-metadata<7.0,>=6.0 in /opt/conda/lib/python3.11/site-packages (from opentelemetry-api>=1.2.0->chromadb) (6.11.0)\n",
      "Requirement already satisfied: backoff<3.0.0,>=1.10.0 in /opt/conda/lib/python3.11/site-packages (from opentelemetry-exporter-otlp-proto-grpc>=1.2.0->chromadb) (2.2.1)\n",
      "Requirement already satisfied: googleapis-common-protos~=1.52 in /opt/conda/lib/python3.11/site-packages (from opentelemetry-exporter-otlp-proto-grpc>=1.2.0->chromadb) (1.62.0)\n",
      "Requirement already satisfied: opentelemetry-exporter-otlp-proto-common==1.22.0 in /opt/conda/lib/python3.11/site-packages (from opentelemetry-exporter-otlp-proto-grpc>=1.2.0->chromadb) (1.22.0)\n",
      "Requirement already satisfied: opentelemetry-proto==1.22.0 in /opt/conda/lib/python3.11/site-packages (from opentelemetry-exporter-otlp-proto-grpc>=1.2.0->chromadb) (1.22.0)\n",
      "Requirement already satisfied: opentelemetry-instrumentation-asgi==0.43b0 in /opt/conda/lib/python3.11/site-packages (from opentelemetry-instrumentation-fastapi>=0.41b0->chromadb) (0.43b0)\n",
      "Requirement already satisfied: opentelemetry-instrumentation==0.43b0 in /opt/conda/lib/python3.11/site-packages (from opentelemetry-instrumentation-fastapi>=0.41b0->chromadb) (0.43b0)\n",
      "Requirement already satisfied: opentelemetry-semantic-conventions==0.43b0 in /opt/conda/lib/python3.11/site-packages (from opentelemetry-instrumentation-fastapi>=0.41b0->chromadb) (0.43b0)\n",
      "Requirement already satisfied: opentelemetry-util-http==0.43b0 in /opt/conda/lib/python3.11/site-packages (from opentelemetry-instrumentation-fastapi>=0.41b0->chromadb) (0.43b0)\n",
      "Requirement already satisfied: setuptools>=16.0 in /opt/conda/lib/python3.11/site-packages (from opentelemetry-instrumentation==0.43b0->opentelemetry-instrumentation-fastapi>=0.41b0->chromadb) (69.0.3)\n",
      "Requirement already satisfied: wrapt<2.0.0,>=1.0.0 in /opt/conda/lib/python3.11/site-packages (from opentelemetry-instrumentation==0.43b0->opentelemetry-instrumentation-fastapi>=0.41b0->chromadb) (1.16.0)\n",
      "Requirement already satisfied: asgiref~=3.0 in /opt/conda/lib/python3.11/site-packages (from opentelemetry-instrumentation-asgi==0.43b0->opentelemetry-instrumentation-fastapi>=0.41b0->chromadb) (3.7.2)\n",
      "Requirement already satisfied: monotonic>=1.5 in /opt/conda/lib/python3.11/site-packages (from posthog>=2.4.0->chromadb) (1.6)\n",
      "Requirement already satisfied: annotated-types>=0.4.0 in /opt/conda/lib/python3.11/site-packages (from pydantic>=1.9->chromadb) (0.6.0)\n",
      "Requirement already satisfied: pydantic-core==2.14.6 in /opt/conda/lib/python3.11/site-packages (from pydantic>=1.9->chromadb) (2.14.6)\n",
      "Requirement already satisfied: charset-normalizer<4,>=2 in /opt/conda/lib/python3.11/site-packages (from requests>=2.28->chromadb) (3.3.2)\n",
      "Requirement already satisfied: idna<4,>=2.5 in /opt/conda/lib/python3.11/site-packages (from requests>=2.28->chromadb) (3.6)\n",
      "Requirement already satisfied: huggingface_hub<1.0,>=0.16.4 in /opt/conda/lib/python3.11/site-packages (from tokenizers>=0.13.2->chromadb) (0.20.3)\n",
      "Requirement already satisfied: click<9.0.0,>=7.1.1 in /opt/conda/lib/python3.11/site-packages (from typer>=0.9.0->chromadb) (8.1.7)\n",
      "Requirement already satisfied: h11>=0.8 in /opt/conda/lib/python3.11/site-packages (from uvicorn>=0.18.3->uvicorn[standard]>=0.18.3->chromadb) (0.14.0)\n",
      "Requirement already satisfied: httptools>=0.5.0 in /opt/conda/lib/python3.11/site-packages (from uvicorn[standard]>=0.18.3->chromadb) (0.6.1)\n",
      "Requirement already satisfied: python-dotenv>=0.13 in /opt/conda/lib/python3.11/site-packages (from uvicorn[standard]>=0.18.3->chromadb) (1.0.0)\n",
      "Requirement already satisfied: uvloop!=0.15.0,!=0.15.1,>=0.14.0 in /opt/conda/lib/python3.11/site-packages (from uvicorn[standard]>=0.18.3->chromadb) (0.19.0)\n",
      "Requirement already satisfied: watchfiles>=0.13 in /opt/conda/lib/python3.11/site-packages (from uvicorn[standard]>=0.18.3->chromadb) (0.21.0)\n",
      "Requirement already satisfied: websockets>=10.4 in /opt/conda/lib/python3.11/site-packages (from uvicorn[standard]>=0.18.3->chromadb) (12.0)\n",
      "Requirement already satisfied: cachetools<6.0,>=2.0.0 in /opt/conda/lib/python3.11/site-packages (from google-auth>=1.0.1->kubernetes>=28.1.0->chromadb) (5.3.2)\n",
      "Requirement already satisfied: pyasn1-modules>=0.2.1 in /opt/conda/lib/python3.11/site-packages (from google-auth>=1.0.1->kubernetes>=28.1.0->chromadb) (0.3.0)\n",
      "Requirement already satisfied: rsa<5,>=3.1.4 in /opt/conda/lib/python3.11/site-packages (from google-auth>=1.0.1->kubernetes>=28.1.0->chromadb) (4.9)\n",
      "Requirement already satisfied: filelock in /opt/conda/lib/python3.11/site-packages (from huggingface_hub<1.0,>=0.16.4->tokenizers>=0.13.2->chromadb) (3.13.1)\n",
      "Requirement already satisfied: fsspec>=2023.5.0 in /opt/conda/lib/python3.11/site-packages (from huggingface_hub<1.0,>=0.16.4->tokenizers>=0.13.2->chromadb) (2023.12.2)\n",
      "Requirement already satisfied: zipp>=0.5 in /opt/conda/lib/python3.11/site-packages (from importlib-metadata<7.0,>=6.0->opentelemetry-api>=1.2.0->chromadb) (3.17.0)\n",
      "Requirement already satisfied: anyio<5,>=3.4.0 in /opt/conda/lib/python3.11/site-packages (from starlette<0.36.0,>=0.35.0->fastapi>=0.95.2->chromadb) (4.2.0)\n",
      "Requirement already satisfied: humanfriendly>=9.1 in /opt/conda/lib/python3.11/site-packages (from coloredlogs->onnxruntime>=1.14.1->chromadb) (10.0)\n",
      "Requirement already satisfied: mpmath>=0.19 in /opt/conda/lib/python3.11/site-packages (from sympy->onnxruntime>=1.14.1->chromadb) (1.3.0)\n",
      "Requirement already satisfied: sniffio>=1.1 in /opt/conda/lib/python3.11/site-packages (from anyio<5,>=3.4.0->starlette<0.36.0,>=0.35.0->fastapi>=0.95.2->chromadb) (1.3.0)\n",
      "Requirement already satisfied: pyasn1<0.6.0,>=0.4.6 in /opt/conda/lib/python3.11/site-packages (from pyasn1-modules>=0.2.1->google-auth>=1.0.1->kubernetes>=28.1.0->chromadb) (0.5.1)\n",
      "Requirement already satisfied: pypdf in /opt/conda/lib/python3.11/site-packages (4.1.0)\n",
      "Requirement already satisfied: pyspellchecker in /opt/conda/lib/python3.11/site-packages (0.8.1)\n"
     ]
    }
   ],
   "source": [
    "!pip install chromadb\n",
    "!pip install pypdf\n",
    "!pip install pyspellchecker"
   ]
  },
  {
   "cell_type": "code",
   "execution_count": 2,
   "id": "50b735c4-f91e-4bab-9c8e-819218dabf86",
   "metadata": {},
   "outputs": [],
   "source": [
    "from pathlib import Path\n",
    "import os\n",
    "import shutil\n",
    "\n",
    "from langchain.embeddings.sentence_transformer import SentenceTransformerEmbeddings\n",
    "\n",
    "from langchain.text_splitter import RecursiveCharacterTextSplitter\n",
    "# from langchain_community.document_loaders import TextLoader\n",
    "\n",
    "from langchain.document_loaders import PyPDFLoader\n",
    "from langchain.vectorstores import Chroma\n",
    "\n",
    "from autocorrect import Speller\n"
   ]
  },
  {
   "cell_type": "code",
   "execution_count": 3,
   "id": "11290cc1-8ce0-4d92-9a42-413381619f60",
   "metadata": {},
   "outputs": [],
   "source": [
    "SENTENCE_MODEL_NAME = \"ai-forever/sbert_large_nlu_ru\"\n",
    "# LLM_MODEL_NAME = \"ai-forever/FRED-T5-1.7B\"\n",
    "# LLM_MODEL_NAME = \"ai-forever/FRED-T5-large\"\n",
    "# LLM_MODEL_FOLDER = \"TheBloke/Llama-2-7B-GGUF\"\n",
    "LLM_MODEL_NAME = \"llama-2-7b.Q4_K_M.gguf\""
   ]
  },
  {
   "cell_type": "code",
   "execution_count": 4,
   "id": "e1305c68-3b21-432c-8951-a180c859b192",
   "metadata": {},
   "outputs": [],
   "source": [
    "WORKDIR_PATH = Path.home()\n",
    "DOCS_PATH = WORKDIR_PATH / \"data\" / \"auto_txt_export\"\n",
    "MODEL_PATH = WORKDIR_PATH / \"models\"\n",
    "CHROMA_PATH = WORKDIR_PATH / \"chromadb\"\n",
    "\n",
    "COLLECTION_NAME = \"articles\""
   ]
  },
  {
   "cell_type": "code",
   "execution_count": 5,
   "id": "c3797e11-0448-4fe7-a755-7fa8895c74e8",
   "metadata": {},
   "outputs": [],
   "source": [
    "# TODO: стоит разобрать как делать кастомные токены и стоит ли\n",
    "JOIN_TOKEN = \"\\n\\n\"\n",
    "METADATA_TOKEN = \"\\n\""
   ]
  },
  {
   "cell_type": "code",
   "execution_count": 6,
   "id": "cf8dff53-2a8c-4cba-a902-7386e4810fe6",
   "metadata": {},
   "outputs": [],
   "source": [
    "chunk_size = 1000\n",
    "chunk_overlap = 300\n",
    "# set_cache_dir(MODEL_PATH)"
   ]
  },
  {
   "cell_type": "markdown",
   "id": "b66fe023-86a0-4c22-b31f-8222446ae422",
   "metadata": {},
   "source": [
    "# Разворот моделей"
   ]
  },
  {
   "cell_type": "markdown",
   "id": "7892ba77-795e-45f5-8846-9b9a86a5a295",
   "metadata": {},
   "source": [
    "## sentencetransformer"
   ]
  },
  {
   "cell_type": "code",
   "execution_count": 7,
   "id": "8e8f240a-4474-44fc-a530-a096ed5ce5bd",
   "metadata": {},
   "outputs": [
    {
     "name": "stderr",
     "output_type": "stream",
     "text": [
      "/opt/conda/lib/python3.11/site-packages/tqdm/auto.py:21: TqdmWarning: IProgress not found. Please update jupyter and ipywidgets. See https://ipywidgets.readthedocs.io/en/stable/user_install.html\n",
      "  from .autonotebook import tqdm as notebook_tqdm\n",
      "No sentence-transformers model found with name /home/jovyan/.cache/torch/sentence_transformers/ai-forever_sbert_large_nlu_ru. Creating a new one with MEAN pooling.\n",
      "/opt/conda/lib/python3.11/site-packages/torch/_utils.py:831: UserWarning: TypedStorage is deprecated. It will be removed in the future and UntypedStorage will be the only storage class. This should only matter to you if you are using storages directly.  To access UntypedStorage directly, use tensor.untyped_storage() instead of tensor.storage()\n",
      "  return self.fget.__get__(instance, owner)()\n"
     ]
    }
   ],
   "source": [
    "embedding_function = SentenceTransformerEmbeddings(model_name=SENTENCE_MODEL_NAME)"
   ]
  },
  {
   "cell_type": "markdown",
   "id": "980e7241-ed41-4b0c-bf4b-e0a7dd007901",
   "metadata": {},
   "source": [
    "# Удаление старой vectordb"
   ]
  },
  {
   "cell_type": "code",
   "execution_count": 8,
   "id": "6c695475-d035-4cd3-bd76-34febc0342a0",
   "metadata": {},
   "outputs": [],
   "source": [
    "# shutil.rmtree(CHROMA_PATH)\n",
    "# os.makedirs(CHROMA_PATH)"
   ]
  },
  {
   "cell_type": "markdown",
   "id": "68fce32b-7907-4c36-92d0-ea3d1798aff5",
   "metadata": {},
   "source": [
    "# Инициализация векторной db"
   ]
  },
  {
   "cell_type": "code",
   "execution_count": 9,
   "id": "041ceccb-fa18-4b9c-a33c-dbd481d3cedb",
   "metadata": {},
   "outputs": [],
   "source": [
    "def load_documents(path = DOCS_PATH):\n",
    "    # spell = Speller(\"ru\")\n",
    "    text_splitter = RecursiveCharacterTextSplitter(chunk_size=chunk_size, chunk_overlap=chunk_overlap)\n",
    "\n",
    "    # load the document and split it into chunks\n",
    "    txt_paths_list = [str(doc) for doc in Path(path).glob(\"*.txt\")]\n",
    "    # pdf_paths_list = [str(doc) for doc in Path(path).glob(\"*.pdf\")]\n",
    "    for txt_path in txt_paths_list:\n",
    "        print(f\"current docs: {txt_path}\")\n",
    "        with open(txt_path) as f:\n",
    "            file = f.read()\n",
    "            file_name = f.name\n",
    "        # split it into chunks\n",
    "        docs = text_splitter.create_documents([file])\n",
    "        for idx, _ in enumerate(docs):\n",
    "            docs[idx].metadata = {\"file_name\": file_name}\n",
    "        # clean with spellchecker\n",
    "        # for doc in docs:\n",
    "        #     doc.page_content = spell(doc.page_content)\n",
    "        \n",
    "        # load it into Chroma\n",
    "        Chroma.from_documents(\n",
    "            docs,\n",
    "            embedding_function,\n",
    "            collection_name=COLLECTION_NAME,\n",
    "            persist_directory=str(CHROMA_PATH)\n",
    "        )\n",
    "    return docs"
   ]
  },
  {
   "cell_type": "code",
   "execution_count": 10,
   "id": "44e8d6f3-8fe5-4ef9-a615-b9fcd8f671c8",
   "metadata": {
    "scrolled": true
   },
   "outputs": [
    {
     "name": "stdout",
     "output_type": "stream",
     "text": [
      "current docs: /home/jovyan/data/auto_txt_export/7.Нейронные сети и маш.обучение.txt\n",
      "current docs: /home/jovyan/data/auto_txt_export/6 О подходах к изучению субъективного благополучия личности в зарубежных исследованиях .txt\n",
      "current docs: /home/jovyan/data/auto_txt_export/5. Мат.модель математ.логики - статья.txt\n",
      "current docs: /home/jovyan/data/auto_txt_export/6. Диалектика и мат.логика - статья.txt\n",
      "current docs: /home/jovyan/data/auto_txt_export/3 О роли сознания в субъективном благополучии личности.txt\n",
      "current docs: /home/jovyan/data/auto_txt_export/11 Субъективное благополучие и эмоциональные переживания в контексте адаптации личности к длительной экстремальной ситуации.txt\n",
      "current docs: /home/jovyan/data/auto_txt_export/2. Петренко В.Ф. Многомерное сознание.txt\n",
      "current docs: /home/jovyan/data/auto_txt_export/7 Факторы, определяющие субъективное благополучие личности.txt\n",
      "current docs: /home/jovyan/data/auto_txt_export/9. ОБЗОР РАЗВИТИЯ ИИ - статья.txt\n",
      "current docs: /home/jovyan/data/auto_txt_export/old2.txt\n",
      "current docs: /home/jovyan/data/auto_txt_export/4 Субъективное благополучие личности в контексте жизненных стратегий.txt\n",
      "current docs: /home/jovyan/data/auto_txt_export/8 Субъективное благополучие в структуре личностных черт .txt\n",
      "current docs: /home/jovyan/data/auto_txt_export/1.Петренко В.Ф. - Основы психосемантики.txt\n",
      "current docs: /home/jovyan/data/auto_txt_export/1 Субъективное благополучие студентов с разным уровнем социального капитала.txt\n",
      "current docs: /home/jovyan/data/auto_txt_export/10.ЭВРИСТ. ИИ. ЗАРУБЕЖ.ПуБЛИКАЦИЯ.txt\n",
      "current docs: /home/jovyan/data/auto_txt_export/10 Субъективное благополучие личности как субъекта социального бытия.txt\n",
      "current docs: /home/jovyan/data/auto_txt_export/5 Субъективное благополучие как проблема социальной психологии личности.txt\n",
      "current docs: /home/jovyan/data/auto_txt_export/9 Субъективное благополучие и эмоционально-волевая сфера личности .txt\n",
      "current docs: /home/jovyan/data/auto_txt_export/8. ИИ и имитация творч.процессов.txt\n",
      "current docs: /home/jovyan/data/auto_txt_export/old.txt\n"
     ]
    }
   ],
   "source": [
    "docs = load_documents()"
   ]
  },
  {
   "cell_type": "markdown",
   "id": "5519ba9c-292c-498d-9d65-b58d9d9b0fbf",
   "metadata": {},
   "source": [
    "# Тесты"
   ]
  },
  {
   "cell_type": "code",
   "execution_count": 11,
   "id": "2bd6ef4b-86d3-4ebc-abe0-3a86c57f1322",
   "metadata": {},
   "outputs": [
    {
     "name": "stdout",
     "output_type": "stream",
     "text": [
      "благополучия «Социальное одобрение» (ϕэмп. = 1,6992; р < 0,05), причем более высокие оценки получены у подгруппы с низкими значениями социального капитала, такие студенты особое влияние уделяют обратной связи от тех, с кем они взаимодействуют, ожидают одобрения, поощрения, поддержки для сохранения своей эмоциональной стабильности.\n",
      "{'file_name': '/home/jovyan/data/auto_txt_export/old.txt'}\n",
      "\n",
      "благополучия «Социальное одобрение» (ϕэмп. = 1,6992; р < 0,05), причем более высокие оценки получены у подгруппы с низкими значениями социального капитала, такие студенты особое влияние уделяют обратной связи от тех, с кем они взаимодействуют, ожидают одобрения, поощрения, поддержки для сохранения своей эмоциональной стабильности.\n",
      "{'file_name': '/home/jovyan/data/auto_txt_export/old2.txt'}\n",
      "\n",
      "благополучия «Социальное одобрение» (ϕэмп. = 1,6992; р < 0,05), причем более высокие оценки получены у подгруппы с низкими значениями социального капитала, такие студенты особое влияние уделяют обратной связи от тех, с кем они взаимодействуют, ожидают одобрения, поощрения, поддержки для сохранения своей эмоциональной стабильности.\n",
      "{'file_name': '/home/jovyan/data/auto_txt_export/1 Субъективное благополучие студентов с разным уровнем социального капитала.txt'}\n",
      "\n",
      "на базе клиник, несущих реальную угрозу здоровью самого студента, и проч.), повышенная (по сравнению с другими вузами) степень ответственности на практических занятиях у постели больного и др. Мы полагаем, что с учетом перечисленных особенностей психологические закономерности адаптации на данной сту\n",
      "{'file_name': '/home/jovyan/data/auto_txt_export/8 Субъективное благополучие в структуре личностных черт .txt'}\n",
      "\n",
      "эмоционального принятия с активным использованием ресурса социального капитала, связанного с личными контактами, поддержкой близких людей и знакомых. Для обеспечения эмоционального благополучия студенты активно привлекают ресурсы проведения свободного времени, что подчеркивает важную роль для студенческого возраста неформальных дружеских отношений. Кроме этого, позитивные эмоциональные контакты с другими людьми влияют на преставление о других людях как заслуживающих доверия, добрых и честных. Ключевые слова: субъективное благополучие, психологическое благополучие, социальный капитал, ресурсы социального капитала, студенты.\n",
      "{'file_name': '/home/jovyan/data/auto_txt_export/old.txt'}\n"
     ]
    }
   ],
   "source": [
    "chroma_db = Chroma(\n",
    "        persist_directory=str(CHROMA_PATH),\n",
    "        embedding_function=embedding_function,\n",
    "        collection_name=COLLECTION_NAME,\n",
    "    )\n",
    "\n",
    "similiartiy_responce = chroma_db.similarity_search(\"благополучие студента\", k=5)\n",
    "beatify2print = JOIN_TOKEN.join(list(map(lambda x: x.page_content + METADATA_TOKEN + str(x.metadata), similiartiy_responce)))\n",
    "# .join(\"\\n\\n\")\n",
    "# similiartiy_pg_cnt\n",
    "print(beatify2print)"
   ]
  }
 ],
 "metadata": {
  "kernelspec": {
   "display_name": "Python 3 (ipykernel)",
   "language": "python",
   "name": "python3"
  },
  "language_info": {
   "codemirror_mode": {
    "name": "ipython",
    "version": 3
   },
   "file_extension": ".py",
   "mimetype": "text/x-python",
   "name": "python",
   "nbconvert_exporter": "python",
   "pygments_lexer": "ipython3",
   "version": "3.11.7"
  }
 },
 "nbformat": 4,
 "nbformat_minor": 5
}
