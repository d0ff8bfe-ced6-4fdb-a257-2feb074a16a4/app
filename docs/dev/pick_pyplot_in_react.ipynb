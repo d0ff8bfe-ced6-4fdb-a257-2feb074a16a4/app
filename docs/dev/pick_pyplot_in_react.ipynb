{
 "cells": [
  {
   "cell_type": "code",
   "execution_count": 2,
   "metadata": {},
   "outputs": [
    {
     "name": "stdout",
     "output_type": "stream",
     "text": [
      " * Serving Flask app \"__main__\" (lazy loading)\n",
      " * Environment: production\n",
      "\u001b[31m   WARNING: This is a development server. Do not use it in a production deployment.\u001b[0m\n",
      "\u001b[2m   Use a production WSGI server instead.\u001b[0m\n",
      " * Debug mode: off\n"
     ]
    },
    {
     "name": "stderr",
     "output_type": "stream",
     "text": [
      " * Running on http://127.0.0.1:5000/ (Press CTRL+C to quit)\n",
      "127.0.0.1 - - [10/Jul/2023 18:55:28] \"\u001b[33mGET / HTTP/1.1\u001b[0m\" 404 -\n"
     ]
    }
   ],
   "source": [
    "# Геренация графиков для ReactJS из данных\n",
    "from flask import Flask, send_file\n",
    "import matplotlib.pyplot as plt\n",
    "import io\n",
    "\n",
    "app = Flask(__name__)\n",
    "\n",
    "@app.route('/generate_plot')\n",
    "def generate_plot():\n",
    "    # Generate your plot using Matplotlib\n",
    "    fig, ax = plt.subplots()\n",
    "    ax.plot([1, 2, 3, 4], [1, 4, 9, 16])\n",
    "    \n",
    "    # Save the plot as an image file\n",
    "    img_buffer = io.BytesIO()\n",
    "    plt.savefig(img_buffer, format='png')\n",
    "    img_buffer.seek(0)\n",
    "    \n",
    "    # Return the image file\n",
    "    return send_file(img_buffer, mimetype='image/png')\n",
    "\n",
    "if __name__ == '__main__':\n",
    "    app.run()\n"
   ]
  },
  {
   "cell_type": "code",
   "execution_count": 3,
   "metadata": {
    "vscode": {
     "languageId": "javascript"
    }
   },
   "outputs": [
    {
     "ename": "SyntaxError",
     "evalue": "invalid syntax (<ipython-input-3-a4b4e5275b49>, line 1)",
     "output_type": "error",
     "traceback": [
      "\u001b[0;36m  File \u001b[0;32m\"<ipython-input-3-a4b4e5275b49>\"\u001b[0;36m, line \u001b[0;32m1\u001b[0m\n\u001b[0;31m    import React, { useEffect, useState } from 'react';\u001b[0m\n\u001b[0m                  ^\u001b[0m\n\u001b[0;31mSyntaxError\u001b[0m\u001b[0;31m:\u001b[0m invalid syntax\n"
     ]
    }
   ],
   "source": [
    "import React, { useEffect, useState } from 'react';\n",
    "\n",
    "const PlotComponent= () => {\n",
    "  const [plotUrl, setPlotUrl] = useState<string | null>(null);\n",
    "\n",
    "  useEffect(() => {\n",
    "    const fetchPlot = async () => {\n",
    "      // Make an API call to the Python server endpoint\n",
    "      const response = await fetch('/generate_plot');\n",
    "      \n",
    "      // Get the plot image URL from the response\n",
    "      const blob = await response.blob();\n",
    "      const url = URL.createObjectURL(blob);\n",
    "      \n",
    "      // Set the plot URL\n",
    "      setPlotUrl(url);\n",
    "    };\n",
    "\n",
    "    fetchPlot();\n",
    "  }, []);\n",
    "\n",
    "  return (\n",
    "    <div>\n",
    "      {plotUrl && <img src={plotUrl} alt=\"Plot\" />}\n",
    "    </div>\n",
    "  );\n",
    "};\n",
    "\n",
    "export default PlotComponent;"
   ]
  },
  {
   "cell_type": "code",
   "execution_count": null,
   "metadata": {
    "vscode": {
     "languageId": "javascript"
    }
   },
   "outputs": [],
   "source": []
  }
 ],
 "metadata": {
  "kernelspec": {
   "display_name": "Python 3",
   "language": "python",
   "name": "python3"
  },
  "language_info": {
   "codemirror_mode": {
    "name": "ipython",
    "version": 2
   },
   "file_extension": ".py",
   "mimetype": "text/x-python",
   "name": "python",
   "nbconvert_exporter": "python",
   "pygments_lexer": "ipython2",
   "version": "2.7.18"
  },
  "orig_nbformat": 4
 },
 "nbformat": 4,
 "nbformat_minor": 2
}
